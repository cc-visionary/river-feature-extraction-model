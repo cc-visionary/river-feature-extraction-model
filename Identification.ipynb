{
 "cells": [
  {
   "cell_type": "code",
   "execution_count": 1,
   "id": "92b9e3d6",
   "metadata": {
    "ExecuteTime": {
     "end_time": "2023-03-09T04:17:34.572732Z",
     "start_time": "2023-03-09T04:17:32.078287Z"
    },
    "scrolled": true
   },
   "outputs": [],
   "source": [
    "from sklearn.linear_model import LogisticRegression\n",
    "from sklearn.metrics import classification_report\n",
    "from bs4 import BeautifulSoup\n",
    "from shapely.geometry import Polygon\n",
    "from uuid import uuid4\n",
    "from tqdm import tqdm\n",
    "\n",
    "import cv2\n",
    "import pandas as pd\n",
    "import matplotlib.pyplot as plt\n",
    "import os"
   ]
  },
  {
   "cell_type": "markdown",
   "id": "fc7ec3ac",
   "metadata": {},
   "source": [
    "## Extract Objects"
   ]
  },
  {
   "cell_type": "code",
   "execution_count": 2,
   "id": "4dd36f89",
   "metadata": {
    "ExecuteTime": {
     "end_time": "2023-03-07T12:36:41.711350Z",
     "start_time": "2023-03-07T12:36:41.673813Z"
    }
   },
   "outputs": [
    {
     "data": {
      "text/html": [
       "<div>\n",
       "<style scoped>\n",
       "    .dataframe tbody tr th:only-of-type {\n",
       "        vertical-align: middle;\n",
       "    }\n",
       "\n",
       "    .dataframe tbody tr th {\n",
       "        vertical-align: top;\n",
       "    }\n",
       "\n",
       "    .dataframe thead th {\n",
       "        text-align: right;\n",
       "    }\n",
       "</style>\n",
       "<table border=\"1\" class=\"dataframe\">\n",
       "  <thead>\n",
       "    <tr style=\"text-align: right;\">\n",
       "      <th></th>\n",
       "      <th>name</th>\n",
       "      <th>height</th>\n",
       "      <th>width</th>\n",
       "      <th>area</th>\n",
       "      <th>river_area</th>\n",
       "      <th>river_relative_to_image</th>\n",
       "      <th>water_hyacinths</th>\n",
       "      <th>water_hyacinth_bounds</th>\n",
       "      <th>wh_count</th>\n",
       "      <th>garbage</th>\n",
       "      <th>garbage_bounds</th>\n",
       "      <th>g_count</th>\n",
       "      <th>boats</th>\n",
       "      <th>b_count</th>\n",
       "      <th>others</th>\n",
       "      <th>o_count</th>\n",
       "    </tr>\n",
       "  </thead>\n",
       "  <tbody>\n",
       "    <tr>\n",
       "      <th>0</th>\n",
       "      <td>098a1d68568bc.jpg</td>\n",
       "      <td>2250</td>\n",
       "      <td>4000</td>\n",
       "      <td>9000000</td>\n",
       "      <td>7.109300e+06</td>\n",
       "      <td>0.789922</td>\n",
       "      <td>1601.45,700.06,2158.59,212.82,988.12,702.63</td>\n",
       "      <td>2248.29,505.18,2328.55,543.52|262.39,481.43,30...</td>\n",
       "      <td>6</td>\n",
       "      <td>450.63,112.58</td>\n",
       "      <td>409.12,689.54,450.03,706.51|2405.75,520.60,241...</td>\n",
       "      <td>2</td>\n",
       "      <td></td>\n",
       "      <td>0</td>\n",
       "      <td>161.35</td>\n",
       "      <td>1</td>\n",
       "    </tr>\n",
       "    <tr>\n",
       "      <th>1</th>\n",
       "      <td>0bcf8ec7197b6.jpg</td>\n",
       "      <td>2250</td>\n",
       "      <td>4000</td>\n",
       "      <td>9000000</td>\n",
       "      <td>5.248960e+06</td>\n",
       "      <td>0.583218</td>\n",
       "      <td>3491.98,3261.25</td>\n",
       "      <td>436.94,834.35,599.95,871.16|2475.63,1007.40,26...</td>\n",
       "      <td>2</td>\n",
       "      <td>250.78,2111.14,372.59</td>\n",
       "      <td>1381.88,1933.80,1407.25,1951.39|1953.04,1396.7...</td>\n",
       "      <td>3</td>\n",
       "      <td></td>\n",
       "      <td>0</td>\n",
       "      <td></td>\n",
       "      <td>0</td>\n",
       "    </tr>\n",
       "    <tr>\n",
       "      <th>2</th>\n",
       "      <td>10b9ed1b6f7a1.jpg</td>\n",
       "      <td>6000</td>\n",
       "      <td>8000</td>\n",
       "      <td>48000000</td>\n",
       "      <td>3.300106e+07</td>\n",
       "      <td>0.687522</td>\n",
       "      <td>504.41,10393862.49,3545.15,9387.88,1263.40,303...</td>\n",
       "      <td>1788.27,1903.47,1838.92,1937.82|3285.56,2639.7...</td>\n",
       "      <td>7</td>\n",
       "      <td>1904.18</td>\n",
       "      <td>510.80,3191.46,628.97,3271.91</td>\n",
       "      <td>1</td>\n",
       "      <td></td>\n",
       "      <td>0</td>\n",
       "      <td></td>\n",
       "      <td>0</td>\n",
       "    </tr>\n",
       "    <tr>\n",
       "      <th>3</th>\n",
       "      <td>1488a698e63bd.jpg</td>\n",
       "      <td>2250</td>\n",
       "      <td>4000</td>\n",
       "      <td>9000000</td>\n",
       "      <td>6.838209e+06</td>\n",
       "      <td>0.759801</td>\n",
       "      <td>833.01,673.73,731.12</td>\n",
       "      <td>3808.70,726.13,3859.95,754.70|1448.01,768.40,1...</td>\n",
       "      <td>3</td>\n",
       "      <td></td>\n",
       "      <td></td>\n",
       "      <td>0</td>\n",
       "      <td></td>\n",
       "      <td>0</td>\n",
       "      <td></td>\n",
       "      <td>0</td>\n",
       "    </tr>\n",
       "    <tr>\n",
       "      <th>4</th>\n",
       "      <td>154f0cb77c45e.jpg</td>\n",
       "      <td>2250</td>\n",
       "      <td>4000</td>\n",
       "      <td>9000000</td>\n",
       "      <td>7.526385e+06</td>\n",
       "      <td>0.836265</td>\n",
       "      <td>492.94,222.14</td>\n",
       "      <td>3486.60,397.46,3523.62,415.46|1356.79,467.61,1...</td>\n",
       "      <td>2</td>\n",
       "      <td></td>\n",
       "      <td></td>\n",
       "      <td>0</td>\n",
       "      <td></td>\n",
       "      <td>0</td>\n",
       "      <td></td>\n",
       "      <td>0</td>\n",
       "    </tr>\n",
       "  </tbody>\n",
       "</table>\n",
       "</div>"
      ],
      "text/plain": [
       "                name  height  width      area    river_area  \\\n",
       "0  098a1d68568bc.jpg    2250   4000   9000000  7.109300e+06   \n",
       "1  0bcf8ec7197b6.jpg    2250   4000   9000000  5.248960e+06   \n",
       "2  10b9ed1b6f7a1.jpg    6000   8000  48000000  3.300106e+07   \n",
       "3  1488a698e63bd.jpg    2250   4000   9000000  6.838209e+06   \n",
       "4  154f0cb77c45e.jpg    2250   4000   9000000  7.526385e+06   \n",
       "\n",
       "   river_relative_to_image                                    water_hyacinths  \\\n",
       "0                 0.789922        1601.45,700.06,2158.59,212.82,988.12,702.63   \n",
       "1                 0.583218                                    3491.98,3261.25   \n",
       "2                 0.687522  504.41,10393862.49,3545.15,9387.88,1263.40,303...   \n",
       "3                 0.759801                               833.01,673.73,731.12   \n",
       "4                 0.836265                                      492.94,222.14   \n",
       "\n",
       "                               water_hyacinth_bounds  wh_count  \\\n",
       "0  2248.29,505.18,2328.55,543.52|262.39,481.43,30...         6   \n",
       "1  436.94,834.35,599.95,871.16|2475.63,1007.40,26...         2   \n",
       "2  1788.27,1903.47,1838.92,1937.82|3285.56,2639.7...         7   \n",
       "3  3808.70,726.13,3859.95,754.70|1448.01,768.40,1...         3   \n",
       "4  3486.60,397.46,3523.62,415.46|1356.79,467.61,1...         2   \n",
       "\n",
       "                 garbage                                     garbage_bounds  \\\n",
       "0          450.63,112.58  409.12,689.54,450.03,706.51|2405.75,520.60,241...   \n",
       "1  250.78,2111.14,372.59  1381.88,1933.80,1407.25,1951.39|1953.04,1396.7...   \n",
       "2                1904.18                      510.80,3191.46,628.97,3271.91   \n",
       "3                                                                             \n",
       "4                                                                             \n",
       "\n",
       "   g_count boats  b_count  others  o_count  \n",
       "0        2              0  161.35        1  \n",
       "1        3              0                0  \n",
       "2        1              0                0  \n",
       "3        0              0                0  \n",
       "4        0              0                0  "
      ]
     },
     "execution_count": 2,
     "metadata": {},
     "output_type": "execute_result"
    }
   ],
   "source": [
    "df = pd.read_json('./segmentations/annotation_statistics.json')\n",
    "\n",
    "df.head()"
   ]
  },
  {
   "cell_type": "code",
   "execution_count": 3,
   "id": "21f8af4c",
   "metadata": {
    "ExecuteTime": {
     "end_time": "2023-03-07T12:36:47.115947Z",
     "start_time": "2023-03-07T12:36:41.938393Z"
    },
    "scrolled": true
   },
   "outputs": [
    {
     "name": "stderr",
     "output_type": "stream",
     "text": [
      "36it [00:05,  7.02it/s]\n"
     ]
    },
    {
     "ename": "KeyboardInterrupt",
     "evalue": "",
     "output_type": "error",
     "traceback": [
      "\u001b[1;31m---------------------------------------------------------------------------\u001b[0m",
      "\u001b[1;31mKeyboardInterrupt\u001b[0m                         Traceback (most recent call last)",
      "Cell \u001b[1;32mIn[3], line 7\u001b[0m\n\u001b[0;32m      1\u001b[0m metadata \u001b[38;5;241m=\u001b[39m {\n\u001b[0;32m      2\u001b[0m     \u001b[38;5;124m'\u001b[39m\u001b[38;5;124mfilename\u001b[39m\u001b[38;5;124m'\u001b[39m: [],\n\u001b[0;32m      3\u001b[0m     \u001b[38;5;124m'\u001b[39m\u001b[38;5;124mtype\u001b[39m\u001b[38;5;124m'\u001b[39m: [],\n\u001b[0;32m      4\u001b[0m }\n\u001b[0;32m      6\u001b[0m \u001b[38;5;28;01mfor\u001b[39;00m i, row \u001b[38;5;129;01min\u001b[39;00m tqdm(df\u001b[38;5;241m.\u001b[39miterrows()):\n\u001b[1;32m----> 7\u001b[0m     img \u001b[38;5;241m=\u001b[39m \u001b[43mcv2\u001b[49m\u001b[38;5;241;43m.\u001b[39;49m\u001b[43mimread\u001b[49m\u001b[43m(\u001b[49m\u001b[38;5;124;43m'\u001b[39;49m\u001b[38;5;124;43m./images/images/\u001b[39;49m\u001b[38;5;132;43;01m%s\u001b[39;49;00m\u001b[38;5;124;43m'\u001b[39;49m\u001b[43m \u001b[49m\u001b[38;5;241;43m%\u001b[39;49m\u001b[43m \u001b[49m\u001b[43mrow\u001b[49m\u001b[43m[\u001b[49m\u001b[38;5;124;43m'\u001b[39;49m\u001b[38;5;124;43mname\u001b[39;49m\u001b[38;5;124;43m'\u001b[39;49m\u001b[43m]\u001b[49m\u001b[43m)\u001b[49m\n\u001b[0;32m      8\u001b[0m     img \u001b[38;5;241m=\u001b[39m cv2\u001b[38;5;241m.\u001b[39mresize(img, dsize\u001b[38;5;241m=\u001b[39m(\u001b[38;5;241m640\u001b[39m, \u001b[38;5;241m360\u001b[39m), interpolation\u001b[38;5;241m=\u001b[39mcv2\u001b[38;5;241m.\u001b[39mINTER_LINEAR)\n\u001b[0;32m      9\u001b[0m     scaleX, scaleY \u001b[38;5;241m=\u001b[39m (\u001b[38;5;241m640\u001b[39m \u001b[38;5;241m/\u001b[39m row[\u001b[38;5;124m'\u001b[39m\u001b[38;5;124mwidth\u001b[39m\u001b[38;5;124m'\u001b[39m], \u001b[38;5;241m360\u001b[39m \u001b[38;5;241m/\u001b[39m row[\u001b[38;5;124m'\u001b[39m\u001b[38;5;124mheight\u001b[39m\u001b[38;5;124m'\u001b[39m])\n",
      "\u001b[1;31mKeyboardInterrupt\u001b[0m: "
     ]
    }
   ],
   "source": [
    "metadata = {\n",
    "    'filename': [],\n",
    "    'type': [],\n",
    "}\n",
    "\n",
    "for i, row in tqdm(df.iterrows()):\n",
    "    img = cv2.imread('./images/images/%s' % row['name'])\n",
    "    img = cv2.resize(img, dsize=(640, 360), interpolation=cv2.INTER_LINEAR)\n",
    "    scaleX, scaleY = (640 / row['width'], 360 / row['height'])\n",
    "    outputs = []\n",
    "    for wh_bound in row['water_hyacinth_bounds'].split('|'):\n",
    "        if(wh_bound != ''):\n",
    "            minx, miny, maxx, maxy = [round(float(val)) for val in wh_bound.split(',')]\n",
    "            minx = round(minx * scaleX)\n",
    "            maxx = round(maxx * scaleX)\n",
    "            miny = round(miny * scaleY)\n",
    "            maxy = round(maxy * scaleY)\n",
    "            area = (maxx - minx) * (maxy - miny)\n",
    "#             print(minx, miny, maxx, maxy, area)\n",
    "            if(area > 50):\n",
    "                filename = '%s/images/water_hyacinths/%s.jpg' % (os.getcwd(), uuid4())\n",
    "                \n",
    "                new_img = cv2.resize(img[miny:miny+maxy - miny, minx:minx+maxx - minx].copy(), dsize=(128, 128), interpolation=cv2.INTER_LINEAR)\n",
    "                result = cv2.imwrite(filename, new_img)\n",
    "                if(result):\n",
    "                    metadata['filename'].append(filename)\n",
    "                    metadata['type'].append('water_hyacinth')\n",
    "    \n",
    "    for g_bound in row['garbage_bounds'].split('|'):\n",
    "        if(g_bound != ''):\n",
    "            minx, miny, maxx, maxy = [round(float(val)) for val in g_bound.split(',')]\n",
    "            minx = round(minx * scaleX)\n",
    "            maxx = round(maxx * scaleX)\n",
    "            miny = round(miny * scaleY)\n",
    "            maxy = round(maxy * scaleY)\n",
    "            area = (maxx - minx) * (maxy - miny)\n",
    "#             print(minx, miny, maxx, maxy, area)\n",
    "            if(area > 50):\n",
    "                filename = '%s/images/garbages/%s.jpg' % (os.getcwd(), uuid4())\n",
    "                \n",
    "                new_img = cv2.resize(img[miny:miny+maxy - miny, minx:minx+maxx - minx].copy(), dsize=(128, 128), interpolation=cv2.INTER_LINEAR)\n",
    "                result = cv2.imwrite(filename, new_img)\n",
    "                if(result):\n",
    "                    metadata['filename'].append(filename)\n",
    "                    metadata['type'].append('garbage')"
   ]
  },
  {
   "cell_type": "code",
   "execution_count": null,
   "id": "5087828e",
   "metadata": {
    "ExecuteTime": {
     "end_time": "2023-03-07T12:36:47.130943Z",
     "start_time": "2023-03-07T12:36:47.130943Z"
    }
   },
   "outputs": [],
   "source": [
    "new_df = pd.DataFrame(metadata)\n",
    "\n",
    "new_df.head()"
   ]
  },
  {
   "cell_type": "code",
   "execution_count": null,
   "id": "889d8d2b",
   "metadata": {
    "ExecuteTime": {
     "end_time": "2023-03-07T12:36:47.143943Z",
     "start_time": "2023-03-07T12:36:47.143943Z"
    }
   },
   "outputs": [],
   "source": [
    "len(new_df)"
   ]
  },
  {
   "cell_type": "code",
   "execution_count": 26,
   "id": "4c4683ff",
   "metadata": {
    "ExecuteTime": {
     "end_time": "2023-03-07T12:01:14.447246Z",
     "start_time": "2023-03-07T12:01:14.428247Z"
    }
   },
   "outputs": [
    {
     "data": {
      "text/plain": [
       "water_hyacinth    653\n",
       "garbage           205\n",
       "Name: type, dtype: int64"
      ]
     },
     "execution_count": 26,
     "metadata": {},
     "output_type": "execute_result"
    }
   ],
   "source": [
    "new_df['type'].value_counts()"
   ]
  },
  {
   "cell_type": "code",
   "execution_count": 27,
   "id": "35da90a9",
   "metadata": {
    "ExecuteTime": {
     "end_time": "2023-03-07T12:01:14.731391Z",
     "start_time": "2023-03-07T12:01:14.718877Z"
    }
   },
   "outputs": [],
   "source": [
    "new_df.to_csv('objects_metadata.csv', index=False)"
   ]
  },
  {
   "cell_type": "markdown",
   "id": "fd339594",
   "metadata": {},
   "source": [
    "## Import Dataset"
   ]
  },
  {
   "cell_type": "code",
   "execution_count": 2,
   "id": "b1fa0c51",
   "metadata": {
    "ExecuteTime": {
     "end_time": "2023-03-09T04:17:38.887740Z",
     "start_time": "2023-03-09T04:17:38.852729Z"
    }
   },
   "outputs": [
    {
     "data": {
      "text/html": [
       "<div>\n",
       "<style scoped>\n",
       "    .dataframe tbody tr th:only-of-type {\n",
       "        vertical-align: middle;\n",
       "    }\n",
       "\n",
       "    .dataframe tbody tr th {\n",
       "        vertical-align: top;\n",
       "    }\n",
       "\n",
       "    .dataframe thead th {\n",
       "        text-align: right;\n",
       "    }\n",
       "</style>\n",
       "<table border=\"1\" class=\"dataframe\">\n",
       "  <thead>\n",
       "    <tr style=\"text-align: right;\">\n",
       "      <th></th>\n",
       "      <th>filename</th>\n",
       "      <th>type</th>\n",
       "    </tr>\n",
       "  </thead>\n",
       "  <tbody>\n",
       "    <tr>\n",
       "      <th>0</th>\n",
       "      <td>C:\\Users\\chris\\OneDrive\\Documents\\School\\Thesi...</td>\n",
       "      <td>water_hyacinth</td>\n",
       "    </tr>\n",
       "    <tr>\n",
       "      <th>1</th>\n",
       "      <td>C:\\Users\\chris\\OneDrive\\Documents\\School\\Thesi...</td>\n",
       "      <td>water_hyacinth</td>\n",
       "    </tr>\n",
       "    <tr>\n",
       "      <th>2</th>\n",
       "      <td>C:\\Users\\chris\\OneDrive\\Documents\\School\\Thesi...</td>\n",
       "      <td>water_hyacinth</td>\n",
       "    </tr>\n",
       "    <tr>\n",
       "      <th>3</th>\n",
       "      <td>C:\\Users\\chris\\OneDrive\\Documents\\School\\Thesi...</td>\n",
       "      <td>water_hyacinth</td>\n",
       "    </tr>\n",
       "    <tr>\n",
       "      <th>4</th>\n",
       "      <td>C:\\Users\\chris\\OneDrive\\Documents\\School\\Thesi...</td>\n",
       "      <td>garbage</td>\n",
       "    </tr>\n",
       "  </tbody>\n",
       "</table>\n",
       "</div>"
      ],
      "text/plain": [
       "                                            filename            type\n",
       "0  C:\\Users\\chris\\OneDrive\\Documents\\School\\Thesi...  water_hyacinth\n",
       "1  C:\\Users\\chris\\OneDrive\\Documents\\School\\Thesi...  water_hyacinth\n",
       "2  C:\\Users\\chris\\OneDrive\\Documents\\School\\Thesi...  water_hyacinth\n",
       "3  C:\\Users\\chris\\OneDrive\\Documents\\School\\Thesi...  water_hyacinth\n",
       "4  C:\\Users\\chris\\OneDrive\\Documents\\School\\Thesi...         garbage"
      ]
     },
     "execution_count": 2,
     "metadata": {},
     "output_type": "execute_result"
    }
   ],
   "source": [
    "new_df = pd.concat([pd.read_csv('objects_metadata.csv'), pd.read_csv('misclassified_metadata.csv')])\n",
    "\n",
    "new_df.head()"
   ]
  },
  {
   "cell_type": "code",
   "execution_count": 4,
   "id": "b4e0c311",
   "metadata": {
    "ExecuteTime": {
     "end_time": "2023-03-09T04:19:20.569835Z",
     "start_time": "2023-03-09T04:19:20.557835Z"
    }
   },
   "outputs": [
    {
     "data": {
      "text/plain": [
       "water_hyacinth    653\n",
       "garbage           205\n",
       "misclassified      45\n",
       "Name: type, dtype: int64"
      ]
     },
     "execution_count": 4,
     "metadata": {},
     "output_type": "execute_result"
    }
   ],
   "source": [
    "new_df['type'].value_counts()"
   ]
  },
  {
   "cell_type": "code",
   "execution_count": 5,
   "id": "140d4015",
   "metadata": {
    "ExecuteTime": {
     "end_time": "2023-03-09T04:19:21.854490Z",
     "start_time": "2023-03-09T04:19:21.196019Z"
    }
   },
   "outputs": [
    {
     "data": {
      "text/plain": [
       "(903, 128, 128, 3)"
      ]
     },
     "execution_count": 5,
     "metadata": {},
     "output_type": "execute_result"
    }
   ],
   "source": [
    "images = []\n",
    "\n",
    "for i, row in new_df.iterrows():\n",
    "    img = cv2.imread(row['filename'])\n",
    "    images.append(img)\n",
    "    \n",
    "images = np.array(images)\n",
    "images.shape"
   ]
  },
  {
   "cell_type": "code",
   "execution_count": 6,
   "id": "742b64b1",
   "metadata": {
    "ExecuteTime": {
     "end_time": "2023-03-09T04:19:22.214908Z",
     "start_time": "2023-03-09T04:19:22.202914Z"
    }
   },
   "outputs": [
    {
     "name": "stdout",
     "output_type": "stream",
     "text": [
      "(903, 49152)\n"
     ]
    }
   ],
   "source": [
    "X = images.reshape(len(images), -1)\n",
    "print(X.shape)\n",
    "y = new_df['type']"
   ]
  },
  {
   "cell_type": "code",
   "execution_count": 25,
   "id": "17946e9a",
   "metadata": {
    "ExecuteTime": {
     "end_time": "2023-03-09T04:52:54.117591Z",
     "start_time": "2023-03-09T04:52:54.096042Z"
    }
   },
   "outputs": [],
   "source": [
    "from sklearn.model_selection import train_test_split\n",
    "\n",
    "X_train, X_test, y_train, y_test = train_test_split(X,y, test_size=0.2, random_state=0)"
   ]
  },
  {
   "cell_type": "code",
   "execution_count": 26,
   "id": "358e8470",
   "metadata": {
    "ExecuteTime": {
     "end_time": "2023-03-09T04:53:12.023189Z",
     "start_time": "2023-03-09T04:52:54.302321Z"
    }
   },
   "outputs": [
    {
     "data": {
      "text/plain": [
       "SVC(gamma='auto', kernel='linear', random_state=0)"
      ]
     },
     "execution_count": 26,
     "metadata": {},
     "output_type": "execute_result"
    }
   ],
   "source": [
    "from sklearn.svm import SVC\n",
    "\n",
    "model = SVC(kernel='linear', gamma='auto', random_state=0)\n",
    "model.fit(X_train, y_train)"
   ]
  },
  {
   "cell_type": "code",
   "execution_count": 27,
   "id": "e069f9e0",
   "metadata": {
    "ExecuteTime": {
     "end_time": "2023-03-09T04:53:17.205439Z",
     "start_time": "2023-03-09T04:53:12.056708Z"
    }
   },
   "outputs": [
    {
     "name": "stdout",
     "output_type": "stream",
     "text": [
      "                precision    recall  f1-score   support\n",
      "\n",
      "       garbage       0.53      0.57      0.55        79\n",
      " misclassified       0.00      0.00      0.00        16\n",
      "water_hyacinth       0.77      0.81      0.79       176\n",
      "\n",
      "      accuracy                           0.69       271\n",
      "     macro avg       0.43      0.46      0.45       271\n",
      "  weighted avg       0.66      0.69      0.67       271\n",
      "\n"
     ]
    }
   ],
   "source": [
    "pred = model.predict(X_test)\n",
    "\n",
    "print(classification_report(y_test,pred))"
   ]
  },
  {
   "cell_type": "code",
   "execution_count": null,
   "id": "1cee3ac1",
   "metadata": {},
   "outputs": [],
   "source": []
  }
 ],
 "metadata": {
  "kernelspec": {
   "display_name": "Python 3 (ipykernel)",
   "language": "python",
   "name": "python3"
  },
  "language_info": {
   "codemirror_mode": {
    "name": "ipython",
    "version": 3
   },
   "file_extension": ".py",
   "mimetype": "text/x-python",
   "name": "python",
   "nbconvert_exporter": "python",
   "pygments_lexer": "ipython3",
   "version": "3.8.2"
  },
  "toc": {
   "base_numbering": 1,
   "nav_menu": {},
   "number_sections": true,
   "sideBar": true,
   "skip_h1_title": false,
   "title_cell": "Table of Contents",
   "title_sidebar": "Contents",
   "toc_cell": false,
   "toc_position": {},
   "toc_section_display": true,
   "toc_window_display": false
  },
  "varInspector": {
   "cols": {
    "lenName": 16,
    "lenType": 16,
    "lenVar": 40
   },
   "kernels_config": {
    "python": {
     "delete_cmd_postfix": "",
     "delete_cmd_prefix": "del ",
     "library": "var_list.py",
     "varRefreshCmd": "print(var_dic_list())"
    },
    "r": {
     "delete_cmd_postfix": ") ",
     "delete_cmd_prefix": "rm(",
     "library": "var_list.r",
     "varRefreshCmd": "cat(var_dic_list()) "
    }
   },
   "types_to_exclude": [
    "module",
    "function",
    "builtin_function_or_method",
    "instance",
    "_Feature"
   ],
   "window_display": false
  }
 },
 "nbformat": 4,
 "nbformat_minor": 5
}
