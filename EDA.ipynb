{
 "cells": [
  {
   "cell_type": "code",
   "execution_count": 1,
   "id": "8bce76a7",
   "metadata": {
    "ExecuteTime": {
     "end_time": "2023-03-30T05:40:52.668317Z",
     "start_time": "2023-03-30T05:40:51.165528Z"
    }
   },
   "outputs": [],
   "source": [
    "from bs4 import BeautifulSoup\n",
    "from shapely.geometry import Polygon\n",
    "\n",
    "import numpy as np\n",
    "import pandas as pd\n",
    "import seaborn as sns\n",
    "import matplotlib.pyplot as plt\n",
    "import matplotlib.patches as mpatches"
   ]
  },
  {
   "cell_type": "markdown",
   "id": "3c10c26d",
   "metadata": {},
   "source": [
    "## Import and Parse XML"
   ]
  },
  {
   "cell_type": "code",
   "execution_count": 2,
   "id": "404eb88f",
   "metadata": {
    "ExecuteTime": {
     "end_time": "2023-03-30T05:40:53.133004Z",
     "start_time": "2023-03-30T05:40:52.685309Z"
    },
    "scrolled": true
   },
   "outputs": [
    {
     "name": "stdout",
     "output_type": "stream",
     "text": [
      "10b9ed1b6f7a1.jpg has more than 1 river segment\n",
      "3c00c792e62bd.jpg has more than 1 river segment\n",
      "621ede2509ce8.jpg has more than 1 river segment\n",
      "654be90a139c2.jpg has more than 1 river segment\n",
      "9af65325b6362.jpg has more than 1 river segment\n",
      "fb92d0f220ba3.jpg has more than 1 river segment\n",
      "82cf0240e3ba1.jpg has more than 1 river segment\n",
      "73244ae953d8e.jpg has more than 1 river segment\n",
      "cbb8872cf1cc8.jpg has more than 1 river segment\n",
      "597efc9a76f19.jpg has more than 1 river segment\n",
      "5ff75d6dba9b.jpg has more than 1 river segment\n",
      "66fd99b75f6c7.jpg has more than 1 river segment\n"
     ]
    }
   ],
   "source": [
    "images = []\n",
    "files = [\n",
    "    './segmentations/batch1.xml', \n",
    "    './segmentations/batch2.xml', \n",
    "    './segmentations/batch3.xml', \n",
    "    './segmentations/batch4.xml'\n",
    "]\n",
    "for file in files:\n",
    "    with open(file, 'r') as f:\n",
    "        soup = BeautifulSoup(f.read(), \"xml\")\n",
    "        for img in soup.find_all('image'):\n",
    "            water_hyacinths = 0\n",
    "\n",
    "            height = int(img.get('height'))\n",
    "            width = int(img.get('width'))\n",
    "            img_area = height * width \n",
    "            rivers = []\n",
    "            water_hyacinths = []\n",
    "            water_hyacinth_bounds = []\n",
    "            garbage = []\n",
    "            garbage_bounds = []\n",
    "            boats = []\n",
    "            others = []\n",
    "\n",
    "            for polygon in img.find_all('polygon'):\n",
    "                if(polygon.get('label') == 'river'):\n",
    "                    coords = [p.split(',') for p in polygon.get('points').split(';')]\n",
    "                    poly = Polygon(coords)\n",
    "                    \n",
    "                    rivers.append(poly.area)\n",
    "                elif(polygon.get('label') == 'object'):\n",
    "                    coords = [p.split(',') for p in polygon.get('points').split(';')]\n",
    "                    poly = Polygon(coords)\n",
    "                    \n",
    "                    if(polygon.find('attribute').text == 'water hyacinth'):\n",
    "                        water_hyacinths.append('%.2f' % poly.area)\n",
    "                        water_hyacinth_bounds.append(','.join(['%.2f' % point for point in poly.bounds]))\n",
    "                    elif(polygon.find('attribute').text == 'garbage'):\n",
    "                        garbage.append('%.2f' % poly.area)\n",
    "                        garbage_bounds.append(','.join(['%.2f' % point for point in poly.bounds]))\n",
    "                    elif(polygon.find('attribute').text == 'boat'):\n",
    "                        boats.append('%.2f' % poly.area)\n",
    "                    elif(polygon.find('attribute').text == 'others'):\n",
    "                        others.append('%.2f' % poly.area)\n",
    "            \n",
    "            if(len(rivers) > 1):\n",
    "                print('%s has more than 1 river segment' % img.get('name'))\n",
    "            river_area = sum(rivers)\n",
    "            \n",
    "            images.append({\n",
    "                'name': img.get('name'),\n",
    "                'height': height,\n",
    "                'width': width,\n",
    "                'area': img_area,\n",
    "                'river_area': river_area,\n",
    "                'river_relative_to_image': river_area / img_area if river_area else None,\n",
    "                'water_hyacinths': ','.join(water_hyacinths),\n",
    "                'water_hyacinth_bounds': '|'.join(water_hyacinth_bounds),\n",
    "                'wh_count': len(water_hyacinths),\n",
    "                'garbage': ','.join(garbage),\n",
    "                'garbage_bounds': '|'.join(garbage_bounds),\n",
    "                'g_count': len(garbage),\n",
    "                'boats': ','.join(boats),\n",
    "                'b_count': len(boats),\n",
    "                'others': ','.join(others),\n",
    "                'o_count': len(others),\n",
    "            })"
   ]
  },
  {
   "cell_type": "markdown",
   "id": "769c74c1",
   "metadata": {},
   "source": [
    "## Convert JSON to Pandas DataFrame"
   ]
  },
  {
   "cell_type": "code",
   "execution_count": 3,
   "id": "5deb386d",
   "metadata": {
    "ExecuteTime": {
     "end_time": "2023-03-30T05:40:57.207634Z",
     "start_time": "2023-03-30T05:40:57.171121Z"
    }
   },
   "outputs": [
    {
     "data": {
      "text/html": [
       "<div>\n",
       "<style scoped>\n",
       "    .dataframe tbody tr th:only-of-type {\n",
       "        vertical-align: middle;\n",
       "    }\n",
       "\n",
       "    .dataframe tbody tr th {\n",
       "        vertical-align: top;\n",
       "    }\n",
       "\n",
       "    .dataframe thead th {\n",
       "        text-align: right;\n",
       "    }\n",
       "</style>\n",
       "<table border=\"1\" class=\"dataframe\">\n",
       "  <thead>\n",
       "    <tr style=\"text-align: right;\">\n",
       "      <th></th>\n",
       "      <th>name</th>\n",
       "      <th>height</th>\n",
       "      <th>width</th>\n",
       "      <th>area</th>\n",
       "      <th>river_area</th>\n",
       "      <th>river_relative_to_image</th>\n",
       "      <th>water_hyacinths</th>\n",
       "      <th>water_hyacinth_bounds</th>\n",
       "      <th>wh_count</th>\n",
       "      <th>garbage</th>\n",
       "      <th>garbage_bounds</th>\n",
       "      <th>g_count</th>\n",
       "      <th>boats</th>\n",
       "      <th>b_count</th>\n",
       "      <th>others</th>\n",
       "      <th>o_count</th>\n",
       "    </tr>\n",
       "  </thead>\n",
       "  <tbody>\n",
       "    <tr>\n",
       "      <th>0</th>\n",
       "      <td>098a1d68568bc.jpg</td>\n",
       "      <td>2250</td>\n",
       "      <td>4000</td>\n",
       "      <td>9000000</td>\n",
       "      <td>7.109300e+06</td>\n",
       "      <td>0.789922</td>\n",
       "      <td>2158.59,700.06,1601.45,212.82,988.12,702.63</td>\n",
       "      <td>786.80,445.74,961.46,472.54|262.39,481.43,303....</td>\n",
       "      <td>6</td>\n",
       "      <td>450.63</td>\n",
       "      <td>409.12,689.54,450.03,706.51</td>\n",
       "      <td>1</td>\n",
       "      <td></td>\n",
       "      <td>0</td>\n",
       "      <td>161.35</td>\n",
       "      <td>1</td>\n",
       "    </tr>\n",
       "    <tr>\n",
       "      <th>1</th>\n",
       "      <td>0bcf8ec7197b6.jpg</td>\n",
       "      <td>2250</td>\n",
       "      <td>4000</td>\n",
       "      <td>9000000</td>\n",
       "      <td>5.248960e+06</td>\n",
       "      <td>0.583218</td>\n",
       "      <td>3261.25,3491.98</td>\n",
       "      <td>2475.63,1007.40,2638.21,1044.22|436.94,834.35,...</td>\n",
       "      <td>2</td>\n",
       "      <td>2111.14,372.59</td>\n",
       "      <td>1953.04,1396.71,2029.23,1431.82|2903.97,1577.0...</td>\n",
       "      <td>2</td>\n",
       "      <td></td>\n",
       "      <td>0</td>\n",
       "      <td></td>\n",
       "      <td>0</td>\n",
       "    </tr>\n",
       "    <tr>\n",
       "      <th>2</th>\n",
       "      <td>10b9ed1b6f7a1.jpg</td>\n",
       "      <td>6000</td>\n",
       "      <td>8000</td>\n",
       "      <td>48000000</td>\n",
       "      <td>3.300106e+07</td>\n",
       "      <td>0.687522</td>\n",
       "      <td>10393862.49,2384.67,9387.88,1263.40,504.41,303...</td>\n",
       "      <td>3285.56,2639.72,7993.89,6000.00|1669.84,2008.7...</td>\n",
       "      <td>7</td>\n",
       "      <td>1904.18</td>\n",
       "      <td>510.80,3191.46,628.97,3271.91</td>\n",
       "      <td>1</td>\n",
       "      <td></td>\n",
       "      <td>0</td>\n",
       "      <td></td>\n",
       "      <td>0</td>\n",
       "    </tr>\n",
       "    <tr>\n",
       "      <th>3</th>\n",
       "      <td>1488a698e63bd.jpg</td>\n",
       "      <td>2250</td>\n",
       "      <td>4000</td>\n",
       "      <td>9000000</td>\n",
       "      <td>6.838209e+06</td>\n",
       "      <td>0.759801</td>\n",
       "      <td>731.12,673.73,833.01</td>\n",
       "      <td>3619.02,706.10,3660.55,735.55|1448.01,768.40,1...</td>\n",
       "      <td>3</td>\n",
       "      <td></td>\n",
       "      <td></td>\n",
       "      <td>0</td>\n",
       "      <td></td>\n",
       "      <td>0</td>\n",
       "      <td></td>\n",
       "      <td>0</td>\n",
       "    </tr>\n",
       "    <tr>\n",
       "      <th>4</th>\n",
       "      <td>154f0cb77c45e.jpg</td>\n",
       "      <td>2250</td>\n",
       "      <td>4000</td>\n",
       "      <td>9000000</td>\n",
       "      <td>7.526385e+06</td>\n",
       "      <td>0.836265</td>\n",
       "      <td>492.94</td>\n",
       "      <td>3486.60,397.46,3523.62,415.46</td>\n",
       "      <td>1</td>\n",
       "      <td></td>\n",
       "      <td></td>\n",
       "      <td>0</td>\n",
       "      <td></td>\n",
       "      <td>0</td>\n",
       "      <td></td>\n",
       "      <td>0</td>\n",
       "    </tr>\n",
       "  </tbody>\n",
       "</table>\n",
       "</div>"
      ],
      "text/plain": [
       "                name  height  width      area    river_area  \\\n",
       "0  098a1d68568bc.jpg    2250   4000   9000000  7.109300e+06   \n",
       "1  0bcf8ec7197b6.jpg    2250   4000   9000000  5.248960e+06   \n",
       "2  10b9ed1b6f7a1.jpg    6000   8000  48000000  3.300106e+07   \n",
       "3  1488a698e63bd.jpg    2250   4000   9000000  6.838209e+06   \n",
       "4  154f0cb77c45e.jpg    2250   4000   9000000  7.526385e+06   \n",
       "\n",
       "   river_relative_to_image                                    water_hyacinths  \\\n",
       "0                 0.789922        2158.59,700.06,1601.45,212.82,988.12,702.63   \n",
       "1                 0.583218                                    3261.25,3491.98   \n",
       "2                 0.687522  10393862.49,2384.67,9387.88,1263.40,504.41,303...   \n",
       "3                 0.759801                               731.12,673.73,833.01   \n",
       "4                 0.836265                                             492.94   \n",
       "\n",
       "                               water_hyacinth_bounds  wh_count  \\\n",
       "0  786.80,445.74,961.46,472.54|262.39,481.43,303....         6   \n",
       "1  2475.63,1007.40,2638.21,1044.22|436.94,834.35,...         2   \n",
       "2  3285.56,2639.72,7993.89,6000.00|1669.84,2008.7...         7   \n",
       "3  3619.02,706.10,3660.55,735.55|1448.01,768.40,1...         3   \n",
       "4                      3486.60,397.46,3523.62,415.46         1   \n",
       "\n",
       "          garbage                                     garbage_bounds  g_count  \\\n",
       "0          450.63                        409.12,689.54,450.03,706.51        1   \n",
       "1  2111.14,372.59  1953.04,1396.71,2029.23,1431.82|2903.97,1577.0...        2   \n",
       "2         1904.18                      510.80,3191.46,628.97,3271.91        1   \n",
       "3                                                                           0   \n",
       "4                                                                           0   \n",
       "\n",
       "  boats  b_count  others  o_count  \n",
       "0              0  161.35        1  \n",
       "1              0                0  \n",
       "2              0                0  \n",
       "3              0                0  \n",
       "4              0                0  "
      ]
     },
     "execution_count": 3,
     "metadata": {},
     "output_type": "execute_result"
    }
   ],
   "source": [
    "df = pd.DataFrame(images)\n",
    "\n",
    "df.head()"
   ]
  },
  {
   "cell_type": "code",
   "execution_count": 4,
   "id": "498a0639",
   "metadata": {
    "ExecuteTime": {
     "end_time": "2023-03-30T05:40:57.900024Z",
     "start_time": "2023-03-30T05:40:57.891022Z"
    }
   },
   "outputs": [],
   "source": [
    "df.to_json('annotation_statistics.json', orient='records')"
   ]
  },
  {
   "cell_type": "markdown",
   "id": "2a1f9fc8",
   "metadata": {},
   "source": [
    "## Import Data"
   ]
  },
  {
   "cell_type": "code",
   "execution_count": 5,
   "id": "e0d2f3e5",
   "metadata": {
    "ExecuteTime": {
     "end_time": "2023-03-30T05:40:58.561914Z",
     "start_time": "2023-03-30T05:40:58.518621Z"
    }
   },
   "outputs": [
    {
     "name": "stdout",
     "output_type": "stream",
     "text": [
      "<class 'pandas.core.frame.DataFrame'>\n",
      "Int64Index: 360 entries, 0 to 359\n",
      "Data columns (total 21 columns):\n",
      " #   Column                   Non-Null Count  Dtype              \n",
      "---  ------                   --------------  -----              \n",
      " 0   name                     360 non-null    object             \n",
      " 1   height                   360 non-null    int64              \n",
      " 2   width                    360 non-null    int64              \n",
      " 3   area                     360 non-null    int64              \n",
      " 4   river_area               360 non-null    float64            \n",
      " 5   river_relative_to_image  360 non-null    float64            \n",
      " 6   water_hyacinths          360 non-null    object             \n",
      " 7   water_hyacinth_bounds    360 non-null    object             \n",
      " 8   wh_count                 360 non-null    int64              \n",
      " 9   garbage                  360 non-null    object             \n",
      " 10  garbage_bounds           360 non-null    object             \n",
      " 11  g_count                  360 non-null    int64              \n",
      " 12  boats                    360 non-null    object             \n",
      " 13  b_count                  360 non-null    int64              \n",
      " 14  others                   360 non-null    object             \n",
      " 15  o_count                  360 non-null    int64              \n",
      " 16  description              360 non-null    object             \n",
      " 17  weather                  360 non-null    object             \n",
      " 18  datetime                 360 non-null    datetime64[ns, UTC]\n",
      " 19  longitude                360 non-null    float64            \n",
      " 20  latitude                 360 non-null    float64            \n",
      "dtypes: datetime64[ns, UTC](1), float64(4), int64(7), object(9)\n",
      "memory usage: 61.9+ KB\n"
     ]
    }
   ],
   "source": [
    "combined_df = pd.merge(pd.read_json('./segmentations/annotation_statistics.json'), pd.read_json('./image_metadatas/metadatas.json'), left_on='name', right_on='filename')\n",
    "\n",
    "combined_df = combined_df.drop(['_id', 'filename', 'alpha', 'beta', 'gamma', '__v', 'compass'], axis=1)\n",
    "combined_df['longitude'] = combined_df['longitude'].apply(lambda x: float(x['$numberDecimal']))\n",
    "combined_df['latitude'] = combined_df['latitude'].apply(lambda x: float(x['$numberDecimal']))\n",
    "\n",
    "combined_df.info()"
   ]
  },
  {
   "cell_type": "code",
   "execution_count": 6,
   "id": "8a9013d1",
   "metadata": {
    "ExecuteTime": {
     "end_time": "2023-03-30T05:40:58.856160Z",
     "start_time": "2023-03-30T05:40:58.839162Z"
    }
   },
   "outputs": [
    {
     "data": {
      "text/html": [
       "<div>\n",
       "<style scoped>\n",
       "    .dataframe tbody tr th:only-of-type {\n",
       "        vertical-align: middle;\n",
       "    }\n",
       "\n",
       "    .dataframe tbody tr th {\n",
       "        vertical-align: top;\n",
       "    }\n",
       "\n",
       "    .dataframe thead th {\n",
       "        text-align: right;\n",
       "    }\n",
       "</style>\n",
       "<table border=\"1\" class=\"dataframe\">\n",
       "  <thead>\n",
       "    <tr style=\"text-align: right;\">\n",
       "      <th></th>\n",
       "      <th>name</th>\n",
       "      <th>height</th>\n",
       "      <th>width</th>\n",
       "      <th>area</th>\n",
       "      <th>river_area</th>\n",
       "      <th>river_relative_to_image</th>\n",
       "      <th>water_hyacinths</th>\n",
       "      <th>water_hyacinth_bounds</th>\n",
       "      <th>wh_count</th>\n",
       "      <th>garbage</th>\n",
       "      <th>...</th>\n",
       "      <th>g_count</th>\n",
       "      <th>boats</th>\n",
       "      <th>b_count</th>\n",
       "      <th>others</th>\n",
       "      <th>o_count</th>\n",
       "      <th>description</th>\n",
       "      <th>weather</th>\n",
       "      <th>datetime</th>\n",
       "      <th>longitude</th>\n",
       "      <th>latitude</th>\n",
       "    </tr>\n",
       "  </thead>\n",
       "  <tbody>\n",
       "    <tr>\n",
       "      <th>0</th>\n",
       "      <td>098a1d68568bc.jpg</td>\n",
       "      <td>2250</td>\n",
       "      <td>4000</td>\n",
       "      <td>9000000</td>\n",
       "      <td>7.109300e+06</td>\n",
       "      <td>0.789922</td>\n",
       "      <td>1601.45,700.06,2158.59,212.82,988.12,702.63</td>\n",
       "      <td>2248.29,505.18,2328.55,543.52|262.39,481.43,30...</td>\n",
       "      <td>6</td>\n",
       "      <td>450.63,112.58</td>\n",
       "      <td>...</td>\n",
       "      <td>2</td>\n",
       "      <td></td>\n",
       "      <td>0</td>\n",
       "      <td>161.35</td>\n",
       "      <td>1</td>\n",
       "      <td>Near Estrella Pantaleon Bridge</td>\n",
       "      <td>Sunny</td>\n",
       "      <td>2023-01-11 02:55:44.915000+00:00</td>\n",
       "      <td>121.038998</td>\n",
       "      <td>14.567429</td>\n",
       "    </tr>\n",
       "    <tr>\n",
       "      <th>1</th>\n",
       "      <td>0bcf8ec7197b6.jpg</td>\n",
       "      <td>2250</td>\n",
       "      <td>4000</td>\n",
       "      <td>9000000</td>\n",
       "      <td>5.248960e+06</td>\n",
       "      <td>0.583218</td>\n",
       "      <td>3491.98,3261.25</td>\n",
       "      <td>436.94,834.35,599.95,871.16|2475.63,1007.40,26...</td>\n",
       "      <td>2</td>\n",
       "      <td>250.78,2111.14,372.59</td>\n",
       "      <td>...</td>\n",
       "      <td>3</td>\n",
       "      <td></td>\n",
       "      <td>0</td>\n",
       "      <td></td>\n",
       "      <td>0</td>\n",
       "      <td>Near Rockwell along walkway</td>\n",
       "      <td>Cloudy</td>\n",
       "      <td>2023-01-05 02:41:12.626000+00:00</td>\n",
       "      <td>121.037243</td>\n",
       "      <td>14.566365</td>\n",
       "    </tr>\n",
       "    <tr>\n",
       "      <th>2</th>\n",
       "      <td>10b9ed1b6f7a1.jpg</td>\n",
       "      <td>6000</td>\n",
       "      <td>8000</td>\n",
       "      <td>48000000</td>\n",
       "      <td>3.300106e+07</td>\n",
       "      <td>0.687522</td>\n",
       "      <td>504.41,10393862.49,3545.15,9387.88,1263.40,303...</td>\n",
       "      <td>1788.27,1903.47,1838.92,1937.82|3285.56,2639.7...</td>\n",
       "      <td>7</td>\n",
       "      <td>1904.18</td>\n",
       "      <td>...</td>\n",
       "      <td>1</td>\n",
       "      <td></td>\n",
       "      <td>0</td>\n",
       "      <td></td>\n",
       "      <td>0</td>\n",
       "      <td>Riverbank</td>\n",
       "      <td>Sunny</td>\n",
       "      <td>2022-12-29 08:06:58.970000+00:00</td>\n",
       "      <td>120.977622</td>\n",
       "      <td>14.596740</td>\n",
       "    </tr>\n",
       "    <tr>\n",
       "      <th>3</th>\n",
       "      <td>1488a698e63bd.jpg</td>\n",
       "      <td>2250</td>\n",
       "      <td>4000</td>\n",
       "      <td>9000000</td>\n",
       "      <td>6.838209e+06</td>\n",
       "      <td>0.759801</td>\n",
       "      <td>833.01,673.73,731.12</td>\n",
       "      <td>3808.70,726.13,3859.95,754.70|1448.01,768.40,1...</td>\n",
       "      <td>3</td>\n",
       "      <td></td>\n",
       "      <td>...</td>\n",
       "      <td>0</td>\n",
       "      <td></td>\n",
       "      <td>0</td>\n",
       "      <td></td>\n",
       "      <td>0</td>\n",
       "      <td>Near Guadalupe Bridge</td>\n",
       "      <td>Sunny</td>\n",
       "      <td>2023-01-11 02:35:44.059000+00:00</td>\n",
       "      <td>121.044888</td>\n",
       "      <td>14.568310</td>\n",
       "    </tr>\n",
       "    <tr>\n",
       "      <th>4</th>\n",
       "      <td>154f0cb77c45e.jpg</td>\n",
       "      <td>2250</td>\n",
       "      <td>4000</td>\n",
       "      <td>9000000</td>\n",
       "      <td>7.526385e+06</td>\n",
       "      <td>0.836265</td>\n",
       "      <td>492.94,222.14</td>\n",
       "      <td>3486.60,397.46,3523.62,415.46|1356.79,467.61,1...</td>\n",
       "      <td>2</td>\n",
       "      <td></td>\n",
       "      <td>...</td>\n",
       "      <td>0</td>\n",
       "      <td></td>\n",
       "      <td>0</td>\n",
       "      <td></td>\n",
       "      <td>0</td>\n",
       "      <td>Along JP Rizal Ave.</td>\n",
       "      <td>Sunny</td>\n",
       "      <td>2023-01-11 04:17:53.536000+00:00</td>\n",
       "      <td>121.039207</td>\n",
       "      <td>14.567435</td>\n",
       "    </tr>\n",
       "  </tbody>\n",
       "</table>\n",
       "<p>5 rows × 21 columns</p>\n",
       "</div>"
      ],
      "text/plain": [
       "                name  height  width      area    river_area  \\\n",
       "0  098a1d68568bc.jpg    2250   4000   9000000  7.109300e+06   \n",
       "1  0bcf8ec7197b6.jpg    2250   4000   9000000  5.248960e+06   \n",
       "2  10b9ed1b6f7a1.jpg    6000   8000  48000000  3.300106e+07   \n",
       "3  1488a698e63bd.jpg    2250   4000   9000000  6.838209e+06   \n",
       "4  154f0cb77c45e.jpg    2250   4000   9000000  7.526385e+06   \n",
       "\n",
       "   river_relative_to_image                                    water_hyacinths  \\\n",
       "0                 0.789922        1601.45,700.06,2158.59,212.82,988.12,702.63   \n",
       "1                 0.583218                                    3491.98,3261.25   \n",
       "2                 0.687522  504.41,10393862.49,3545.15,9387.88,1263.40,303...   \n",
       "3                 0.759801                               833.01,673.73,731.12   \n",
       "4                 0.836265                                      492.94,222.14   \n",
       "\n",
       "                               water_hyacinth_bounds  wh_count  \\\n",
       "0  2248.29,505.18,2328.55,543.52|262.39,481.43,30...         6   \n",
       "1  436.94,834.35,599.95,871.16|2475.63,1007.40,26...         2   \n",
       "2  1788.27,1903.47,1838.92,1937.82|3285.56,2639.7...         7   \n",
       "3  3808.70,726.13,3859.95,754.70|1448.01,768.40,1...         3   \n",
       "4  3486.60,397.46,3523.62,415.46|1356.79,467.61,1...         2   \n",
       "\n",
       "                 garbage  ... g_count  boats b_count  others o_count  \\\n",
       "0          450.63,112.58  ...       2              0  161.35       1   \n",
       "1  250.78,2111.14,372.59  ...       3              0               0   \n",
       "2                1904.18  ...       1              0               0   \n",
       "3                         ...       0              0               0   \n",
       "4                         ...       0              0               0   \n",
       "\n",
       "                      description weather                         datetime  \\\n",
       "0  Near Estrella Pantaleon Bridge   Sunny 2023-01-11 02:55:44.915000+00:00   \n",
       "1     Near Rockwell along walkway  Cloudy 2023-01-05 02:41:12.626000+00:00   \n",
       "2                       Riverbank   Sunny 2022-12-29 08:06:58.970000+00:00   \n",
       "3           Near Guadalupe Bridge   Sunny 2023-01-11 02:35:44.059000+00:00   \n",
       "4             Along JP Rizal Ave.   Sunny 2023-01-11 04:17:53.536000+00:00   \n",
       "\n",
       "    longitude   latitude  \n",
       "0  121.038998  14.567429  \n",
       "1  121.037243  14.566365  \n",
       "2  120.977622  14.596740  \n",
       "3  121.044888  14.568310  \n",
       "4  121.039207  14.567435  \n",
       "\n",
       "[5 rows x 21 columns]"
      ]
     },
     "execution_count": 6,
     "metadata": {},
     "output_type": "execute_result"
    }
   ],
   "source": [
    "combined_df.head()"
   ]
  },
  {
   "cell_type": "markdown",
   "id": "abdbfe31",
   "metadata": {},
   "source": [
    "## Validation"
   ]
  },
  {
   "cell_type": "markdown",
   "id": "bcb600be",
   "metadata": {},
   "source": [
    "### Check how images have missing rivers"
   ]
  },
  {
   "cell_type": "code",
   "execution_count": 7,
   "id": "48072335",
   "metadata": {
    "ExecuteTime": {
     "end_time": "2023-03-30T05:40:59.848136Z",
     "start_time": "2023-03-30T05:40:59.831116Z"
    }
   },
   "outputs": [
    {
     "data": {
      "text/html": [
       "<div>\n",
       "<style scoped>\n",
       "    .dataframe tbody tr th:only-of-type {\n",
       "        vertical-align: middle;\n",
       "    }\n",
       "\n",
       "    .dataframe tbody tr th {\n",
       "        vertical-align: top;\n",
       "    }\n",
       "\n",
       "    .dataframe thead th {\n",
       "        text-align: right;\n",
       "    }\n",
       "</style>\n",
       "<table border=\"1\" class=\"dataframe\">\n",
       "  <thead>\n",
       "    <tr style=\"text-align: right;\">\n",
       "      <th></th>\n",
       "      <th>name</th>\n",
       "      <th>height</th>\n",
       "      <th>width</th>\n",
       "      <th>area</th>\n",
       "      <th>river_area</th>\n",
       "      <th>river_relative_to_image</th>\n",
       "      <th>water_hyacinths</th>\n",
       "      <th>water_hyacinth_bounds</th>\n",
       "      <th>wh_count</th>\n",
       "      <th>garbage</th>\n",
       "      <th>...</th>\n",
       "      <th>g_count</th>\n",
       "      <th>boats</th>\n",
       "      <th>b_count</th>\n",
       "      <th>others</th>\n",
       "      <th>o_count</th>\n",
       "      <th>description</th>\n",
       "      <th>weather</th>\n",
       "      <th>datetime</th>\n",
       "      <th>longitude</th>\n",
       "      <th>latitude</th>\n",
       "    </tr>\n",
       "  </thead>\n",
       "  <tbody>\n",
       "  </tbody>\n",
       "</table>\n",
       "<p>0 rows × 21 columns</p>\n",
       "</div>"
      ],
      "text/plain": [
       "Empty DataFrame\n",
       "Columns: [name, height, width, area, river_area, river_relative_to_image, water_hyacinths, water_hyacinth_bounds, wh_count, garbage, garbage_bounds, g_count, boats, b_count, others, o_count, description, weather, datetime, longitude, latitude]\n",
       "Index: []\n",
       "\n",
       "[0 rows x 21 columns]"
      ]
     },
     "execution_count": 7,
     "metadata": {},
     "output_type": "execute_result"
    }
   ],
   "source": [
    "combined_df[combined_df['river_area'] != combined_df['river_area']]"
   ]
  },
  {
   "cell_type": "markdown",
   "id": "80bb1b9e",
   "metadata": {},
   "source": [
    "### Check how many rivers have less than 50% area of the image"
   ]
  },
  {
   "cell_type": "code",
   "execution_count": 8,
   "id": "570dacc3",
   "metadata": {
    "ExecuteTime": {
     "end_time": "2023-03-30T05:41:00.576847Z",
     "start_time": "2023-03-30T05:41:00.548345Z"
    }
   },
   "outputs": [
    {
     "data": {
      "text/html": [
       "<div>\n",
       "<style scoped>\n",
       "    .dataframe tbody tr th:only-of-type {\n",
       "        vertical-align: middle;\n",
       "    }\n",
       "\n",
       "    .dataframe tbody tr th {\n",
       "        vertical-align: top;\n",
       "    }\n",
       "\n",
       "    .dataframe thead th {\n",
       "        text-align: right;\n",
       "    }\n",
       "</style>\n",
       "<table border=\"1\" class=\"dataframe\">\n",
       "  <thead>\n",
       "    <tr style=\"text-align: right;\">\n",
       "      <th></th>\n",
       "      <th>name</th>\n",
       "      <th>height</th>\n",
       "      <th>width</th>\n",
       "      <th>area</th>\n",
       "      <th>river_area</th>\n",
       "      <th>river_relative_to_image</th>\n",
       "      <th>water_hyacinths</th>\n",
       "      <th>water_hyacinth_bounds</th>\n",
       "      <th>wh_count</th>\n",
       "      <th>garbage</th>\n",
       "      <th>...</th>\n",
       "      <th>g_count</th>\n",
       "      <th>boats</th>\n",
       "      <th>b_count</th>\n",
       "      <th>others</th>\n",
       "      <th>o_count</th>\n",
       "      <th>description</th>\n",
       "      <th>weather</th>\n",
       "      <th>datetime</th>\n",
       "      <th>longitude</th>\n",
       "      <th>latitude</th>\n",
       "    </tr>\n",
       "  </thead>\n",
       "  <tbody>\n",
       "    <tr>\n",
       "      <th>19</th>\n",
       "      <td>3cee913a8e627.jpg</td>\n",
       "      <td>2250</td>\n",
       "      <td>4000</td>\n",
       "      <td>9000000</td>\n",
       "      <td>4.246180e+06</td>\n",
       "      <td>0.471798</td>\n",
       "      <td>1759.92,1982.69,965.80,4480.71,14368.37,4176.6...</td>\n",
       "      <td>747.32,953.99,833.50,980.37|438.51,963.99,572....</td>\n",
       "      <td>7</td>\n",
       "      <td></td>\n",
       "      <td>...</td>\n",
       "      <td>0</td>\n",
       "      <td></td>\n",
       "      <td>0</td>\n",
       "      <td></td>\n",
       "      <td>0</td>\n",
       "      <td>Near Rockwell along walkway</td>\n",
       "      <td>Cloudy</td>\n",
       "      <td>2023-01-05 02:55:04.662000+00:00</td>\n",
       "      <td>121.037097</td>\n",
       "      <td>14.566885</td>\n",
       "    </tr>\n",
       "    <tr>\n",
       "      <th>55</th>\n",
       "      <td>a45229c7ea87c.jpg</td>\n",
       "      <td>2250</td>\n",
       "      <td>4000</td>\n",
       "      <td>9000000</td>\n",
       "      <td>4.175424e+06</td>\n",
       "      <td>0.463936</td>\n",
       "      <td>897.59,3241.72,655.84,1157.77,35160.09</td>\n",
       "      <td>2226.23,1087.31,2282.72,1115.81|2261.35,991.63...</td>\n",
       "      <td>5</td>\n",
       "      <td></td>\n",
       "      <td>...</td>\n",
       "      <td>0</td>\n",
       "      <td></td>\n",
       "      <td>0</td>\n",
       "      <td></td>\n",
       "      <td>0</td>\n",
       "      <td>Near Rockwell along walkway</td>\n",
       "      <td>Cloudy</td>\n",
       "      <td>2023-01-05 02:39:10.487000+00:00</td>\n",
       "      <td>121.036355</td>\n",
       "      <td>14.566675</td>\n",
       "    </tr>\n",
       "    <tr>\n",
       "      <th>174</th>\n",
       "      <td>0809051412264.jpg</td>\n",
       "      <td>1440</td>\n",
       "      <td>2560</td>\n",
       "      <td>3686400</td>\n",
       "      <td>1.821153e+06</td>\n",
       "      <td>0.494019</td>\n",
       "      <td>85.59,339.21,432.98</td>\n",
       "      <td>981.62,643.34,994.25,651.63|1103.95,630.52,115...</td>\n",
       "      <td>3</td>\n",
       "      <td>40.93,803.85</td>\n",
       "      <td>...</td>\n",
       "      <td>2</td>\n",
       "      <td></td>\n",
       "      <td>0</td>\n",
       "      <td></td>\n",
       "      <td>0</td>\n",
       "      <td>Riverbank Binondo-Intramuros Bridge</td>\n",
       "      <td>Cloudy</td>\n",
       "      <td>2023-02-06 05:18:59.342000+00:00</td>\n",
       "      <td>120.974545</td>\n",
       "      <td>14.596326</td>\n",
       "    </tr>\n",
       "    <tr>\n",
       "      <th>219</th>\n",
       "      <td>c9f4e5978eeab.jpg</td>\n",
       "      <td>1440</td>\n",
       "      <td>2560</td>\n",
       "      <td>3686400</td>\n",
       "      <td>1.746068e+06</td>\n",
       "      <td>0.473651</td>\n",
       "      <td>163.34,284.85,82.32,264.64,704.98</td>\n",
       "      <td>1171.05,938.64,1199.73,950.03|1329.00,750.00,1...</td>\n",
       "      <td>5</td>\n",
       "      <td>146.37,414.50,1319.93,118.88</td>\n",
       "      <td>...</td>\n",
       "      <td>4</td>\n",
       "      <td></td>\n",
       "      <td>0</td>\n",
       "      <td></td>\n",
       "      <td>0</td>\n",
       "      <td>Riverbank - Yuchenco Park</td>\n",
       "      <td>Cloudy</td>\n",
       "      <td>2023-02-06 05:38:31.153000+00:00</td>\n",
       "      <td>120.977221</td>\n",
       "      <td>14.595985</td>\n",
       "    </tr>\n",
       "    <tr>\n",
       "      <th>239</th>\n",
       "      <td>e3bf24cb929d4.jpg</td>\n",
       "      <td>1440</td>\n",
       "      <td>2560</td>\n",
       "      <td>3686400</td>\n",
       "      <td>1.705196e+06</td>\n",
       "      <td>0.462564</td>\n",
       "      <td>3340.90,308.75,137.01,319.09,124.73,986.46,929...</td>\n",
       "      <td>2288.91,1194.63,2397.26,1253.26|631.40,832.92,...</td>\n",
       "      <td>16</td>\n",
       "      <td>661.64,286.17,49.79,119.83,148.03,1587.96</td>\n",
       "      <td>...</td>\n",
       "      <td>6</td>\n",
       "      <td></td>\n",
       "      <td>0</td>\n",
       "      <td></td>\n",
       "      <td>0</td>\n",
       "      <td>Riverbank - Yuchenco Park</td>\n",
       "      <td>Cloudy</td>\n",
       "      <td>2023-02-06 05:39:03.289000+00:00</td>\n",
       "      <td>120.977790</td>\n",
       "      <td>14.596348</td>\n",
       "    </tr>\n",
       "    <tr>\n",
       "      <th>356</th>\n",
       "      <td>9bbf5b63e91e4.jpg</td>\n",
       "      <td>1440</td>\n",
       "      <td>2560</td>\n",
       "      <td>3686400</td>\n",
       "      <td>1.617173e+06</td>\n",
       "      <td>0.438686</td>\n",
       "      <td>501.39,199.73,40.75,1058.42,530.19,55.93,684.8...</td>\n",
       "      <td>1380.24,838.03,1435.69,859.08|966.33,847.56,98...</td>\n",
       "      <td>18</td>\n",
       "      <td>326.76,112.01,298.95,291.15</td>\n",
       "      <td>...</td>\n",
       "      <td>4</td>\n",
       "      <td>38925.27</td>\n",
       "      <td>1</td>\n",
       "      <td></td>\n",
       "      <td>0</td>\n",
       "      <td>Riverbank - Yuchenco Park</td>\n",
       "      <td>Cloudy</td>\n",
       "      <td>2023-02-06 05:39:32.790000+00:00</td>\n",
       "      <td>120.977847</td>\n",
       "      <td>14.596531</td>\n",
       "    </tr>\n",
       "  </tbody>\n",
       "</table>\n",
       "<p>6 rows × 21 columns</p>\n",
       "</div>"
      ],
      "text/plain": [
       "                  name  height  width     area    river_area  \\\n",
       "19   3cee913a8e627.jpg    2250   4000  9000000  4.246180e+06   \n",
       "55   a45229c7ea87c.jpg    2250   4000  9000000  4.175424e+06   \n",
       "174  0809051412264.jpg    1440   2560  3686400  1.821153e+06   \n",
       "219  c9f4e5978eeab.jpg    1440   2560  3686400  1.746068e+06   \n",
       "239  e3bf24cb929d4.jpg    1440   2560  3686400  1.705196e+06   \n",
       "356  9bbf5b63e91e4.jpg    1440   2560  3686400  1.617173e+06   \n",
       "\n",
       "     river_relative_to_image  \\\n",
       "19                  0.471798   \n",
       "55                  0.463936   \n",
       "174                 0.494019   \n",
       "219                 0.473651   \n",
       "239                 0.462564   \n",
       "356                 0.438686   \n",
       "\n",
       "                                       water_hyacinths  \\\n",
       "19   1759.92,1982.69,965.80,4480.71,14368.37,4176.6...   \n",
       "55              897.59,3241.72,655.84,1157.77,35160.09   \n",
       "174                                85.59,339.21,432.98   \n",
       "219                  163.34,284.85,82.32,264.64,704.98   \n",
       "239  3340.90,308.75,137.01,319.09,124.73,986.46,929...   \n",
       "356  501.39,199.73,40.75,1058.42,530.19,55.93,684.8...   \n",
       "\n",
       "                                 water_hyacinth_bounds  wh_count  \\\n",
       "19   747.32,953.99,833.50,980.37|438.51,963.99,572....         7   \n",
       "55   2226.23,1087.31,2282.72,1115.81|2261.35,991.63...         5   \n",
       "174  981.62,643.34,994.25,651.63|1103.95,630.52,115...         3   \n",
       "219  1171.05,938.64,1199.73,950.03|1329.00,750.00,1...         5   \n",
       "239  2288.91,1194.63,2397.26,1253.26|631.40,832.92,...        16   \n",
       "356  1380.24,838.03,1435.69,859.08|966.33,847.56,98...        18   \n",
       "\n",
       "                                       garbage  ... g_count     boats b_count  \\\n",
       "19                                              ...       0                 0   \n",
       "55                                              ...       0                 0   \n",
       "174                               40.93,803.85  ...       2                 0   \n",
       "219               146.37,414.50,1319.93,118.88  ...       4                 0   \n",
       "239  661.64,286.17,49.79,119.83,148.03,1587.96  ...       6                 0   \n",
       "356                326.76,112.01,298.95,291.15  ...       4  38925.27       1   \n",
       "\n",
       "     others o_count                          description weather  \\\n",
       "19                0          Near Rockwell along walkway  Cloudy   \n",
       "55                0          Near Rockwell along walkway  Cloudy   \n",
       "174               0  Riverbank Binondo-Intramuros Bridge  Cloudy   \n",
       "219               0            Riverbank - Yuchenco Park  Cloudy   \n",
       "239               0            Riverbank - Yuchenco Park  Cloudy   \n",
       "356               0            Riverbank - Yuchenco Park  Cloudy   \n",
       "\n",
       "                            datetime   longitude   latitude  \n",
       "19  2023-01-05 02:55:04.662000+00:00  121.037097  14.566885  \n",
       "55  2023-01-05 02:39:10.487000+00:00  121.036355  14.566675  \n",
       "174 2023-02-06 05:18:59.342000+00:00  120.974545  14.596326  \n",
       "219 2023-02-06 05:38:31.153000+00:00  120.977221  14.595985  \n",
       "239 2023-02-06 05:39:03.289000+00:00  120.977790  14.596348  \n",
       "356 2023-02-06 05:39:32.790000+00:00  120.977847  14.596531  \n",
       "\n",
       "[6 rows x 21 columns]"
      ]
     },
     "execution_count": 8,
     "metadata": {},
     "output_type": "execute_result"
    }
   ],
   "source": [
    "combined_df[combined_df['river_relative_to_image'] < 0.5]"
   ]
  },
  {
   "cell_type": "markdown",
   "id": "ac3a7c88",
   "metadata": {},
   "source": [
    "## Analysis and Visualization"
   ]
  },
  {
   "cell_type": "markdown",
   "id": "f3c17d05",
   "metadata": {},
   "source": [
    "### Visualize the number of images per image resolution"
   ]
  },
  {
   "cell_type": "code",
   "execution_count": 9,
   "id": "c0f6c751",
   "metadata": {
    "ExecuteTime": {
     "end_time": "2023-03-30T05:41:01.473751Z",
     "start_time": "2023-03-30T05:41:01.458753Z"
    }
   },
   "outputs": [],
   "source": [
    "combined_df['resolution'] = combined_df.apply(lambda x: '%dx%d' % (x['height'], x['width']), axis=1)"
   ]
  },
  {
   "cell_type": "code",
   "execution_count": 10,
   "id": "aef9f06b",
   "metadata": {
    "ExecuteTime": {
     "end_time": "2023-03-30T05:41:01.829937Z",
     "start_time": "2023-03-30T05:41:01.700407Z"
    }
   },
   "outputs": [
    {
     "data": {
      "text/plain": [
       "Text(0.5, 1.0, 'Number of Images per Resolution')"
      ]
     },
     "execution_count": 10,
     "metadata": {},
     "output_type": "execute_result"
    },
    {
     "data": {
      "image/png": "[encoded data removed]",
      "text/plain": [
       "<Figure size 640x480 with 1 Axes>"
      ]
     },
     "metadata": {},
     "output_type": "display_data"
    }
   ],
   "source": [
    "sns.countplot(combined_df, x='resolution')\n",
    "\n",
    "plt.title('Number of Images per Resolution')"
   ]
  },
  {
   "cell_type": "markdown",
   "id": "b435afa3",
   "metadata": {},
   "source": [
    "### Amount of Objects per Image"
   ]
  },
  {
   "cell_type": "code",
   "execution_count": 11,
   "id": "5fc28e31",
   "metadata": {
    "ExecuteTime": {
     "end_time": "2023-03-30T05:41:02.527483Z",
     "start_time": "2023-03-30T05:41:02.504474Z"
    }
   },
   "outputs": [],
   "source": [
    "combined_df['n_objects'] = combined_df.apply(lambda x: x['wh_count'] + x['g_count'] + x['b_count'] + x['o_count'], axis=1)"
   ]
  },
  {
   "cell_type": "code",
   "execution_count": 12,
   "id": "3c6a7637",
   "metadata": {
    "ExecuteTime": {
     "end_time": "2023-03-30T05:41:02.961256Z",
     "start_time": "2023-03-30T05:41:02.791734Z"
    }
   },
   "outputs": [
    {
     "data": {
      "text/plain": [
       "Text(0.5, 1.0, 'Distribution of Objects found per Image')"
      ]
     },
     "execution_count": 12,
     "metadata": {},
     "output_type": "execute_result"
    },
    {
     "data": {
      "image/png": "[encoded data removed]",
      "text/plain": [
       "<Figure size 640x480 with 1 Axes>"
      ]
     },
     "metadata": {},
     "output_type": "display_data"
    }
   ],
   "source": [
    "sns.histplot(combined_df, x='n_objects')\n",
    "\n",
    "plt.title('Distribution of Objects found per Image')"
   ]
  },
  {
   "cell_type": "markdown",
   "id": "aae07bd1",
   "metadata": {},
   "source": [
    "###  Objects Found"
   ]
  },
  {
   "cell_type": "code",
   "execution_count": 13,
   "id": "ce074281",
   "metadata": {
    "ExecuteTime": {
     "end_time": "2023-03-30T05:41:03.844363Z",
     "start_time": "2023-03-30T05:41:03.834358Z"
    }
   },
   "outputs": [],
   "source": [
    "def check_objects_found(row):\n",
    "    found = []\n",
    "    if(row['wh_count'] > 0):\n",
    "        found.append('wh')\n",
    "    if(row['g_count'] > 0):\n",
    "        found.append('g')\n",
    "    if(row['b_count'] > 0):\n",
    "        found.append('b')\n",
    "    if(row['o_count'] > 0):\n",
    "        found.append('o')\n",
    "    return '+'.join(found) if (len(found) > 0) else \"none\"\n",
    "\n",
    "combined_df['objects_found'] = combined_df.apply(lambda x: check_objects_found(x), axis=1)"
   ]
  },
  {
   "cell_type": "code",
   "execution_count": 14,
   "id": "ab73b431",
   "metadata": {
    "ExecuteTime": {
     "end_time": "2023-03-30T05:41:05.192646Z",
     "start_time": "2023-03-30T05:41:04.988559Z"
    }
   },
   "outputs": [
    {
     "data": {
      "text/plain": [
       "Text(0.5, 1.0, 'Number of Images with Corresponding Objects')"
      ]
     },
     "execution_count": 14,
     "metadata": {},
     "output_type": "execute_result"
    },
    {
     "data": {
      "image/png": "[encoded data removed]",
      "text/plain": [
       "<Figure size 640x480 with 1 Axes>"
      ]
     },
     "metadata": {},
     "output_type": "display_data"
    }
   ],
   "source": [
    "combined_df['objects_found'].value_counts().plot(kind='bar')\n",
    "\n",
    "plt.legend(handles=[mpatches.Patch(color='white', label='wh - water hyacinths'),\n",
    "                   mpatches.Patch(color='white', label='g - garbage'),\n",
    "                   mpatches.Patch(color='white', label='b - boats'),\n",
    "                   mpatches.Patch(color='white', label='o - others'),\n",
    "                   mpatches.Patch(color='white', label='none')])\n",
    "plt.xticks(rotation=45)\n",
    "\n",
    "plt.title(\"Number of Images with Corresponding Objects\")"
   ]
  },
  {
   "cell_type": "code",
   "execution_count": 15,
   "id": "f3949617",
   "metadata": {
    "ExecuteTime": {
     "end_time": "2023-03-30T05:41:06.030423Z",
     "start_time": "2023-03-30T05:41:06.008381Z"
    }
   },
   "outputs": [
    {
     "data": {
      "text/plain": [
       "{'water hyacinths': 297,\n",
       " 'garbages': 210,\n",
       " 'boats': 210,\n",
       " 'others': 210,\n",
       " 'none': 33}"
      ]
     },
     "execution_count": 15,
     "metadata": {},
     "output_type": "execute_result"
    }
   ],
   "source": [
    "counts = {\n",
    "    'water hyacinths': combined_df['objects_found'].apply(lambda x: 'wh' in x).sum(),\n",
    "    'garbages': combined_df['objects_found'].apply(lambda x: 'g' in x).sum(),\n",
    "    'boats': combined_df['objects_found'].apply(lambda x: 'g' in x).sum(),\n",
    "    'others': combined_df['objects_found'].apply(lambda x: 'g' in x).sum(),\n",
    "    'none': combined_df['objects_found'].apply(lambda x: 'none' == x).sum(),\n",
    "}\n",
    "\n",
    "counts"
   ]
  },
  {
   "cell_type": "code",
   "execution_count": 16,
   "id": "ec30ca35",
   "metadata": {
    "ExecuteTime": {
     "end_time": "2023-03-30T05:41:06.633922Z",
     "start_time": "2023-03-30T05:41:06.519895Z"
    }
   },
   "outputs": [
    {
     "data": {
      "text/plain": [
       "Text(0.5, 0, 'Object Name')"
      ]
     },
     "execution_count": 16,
     "metadata": {},
     "output_type": "execute_result"
    },
    {
     "data": {
      "image/png": "[encoded data removed]",
      "text/plain": [
       "<Figure size 640x480 with 1 Axes>"
      ]
     },
     "metadata": {},
     "output_type": "display_data"
    }
   ],
   "source": [
    "plt.bar(counts.keys(), counts.values())\n",
    "\n",
    "plt.xticks(rotation=30)\n",
    "plt.title('Number of Images with Corresponding Objects')\n",
    "plt.ylabel('Number of Images')\n",
    "plt.xlabel('Object Name')"
   ]
  },
  {
   "cell_type": "markdown",
   "id": "626f90d6",
   "metadata": {},
   "source": [
    "### River Coverage"
   ]
  },
  {
   "cell_type": "code",
   "execution_count": 17,
   "id": "f5972aee",
   "metadata": {
    "ExecuteTime": {
     "end_time": "2023-03-30T05:41:08.463288Z",
     "start_time": "2023-03-30T05:41:08.314735Z"
    }
   },
   "outputs": [
    {
     "data": {
      "text/plain": [
       "Text(0.5, 1.0, 'Distribution of River Coverage')"
      ]
     },
     "execution_count": 17,
     "metadata": {},
     "output_type": "execute_result"
    },
    {
     "data": {
      "image/png": "[encoded data removed]",
      "text/plain": [
       "<Figure size 640x480 with 1 Axes>"
      ]
     },
     "metadata": {},
     "output_type": "display_data"
    }
   ],
   "source": [
    "sns.histplot(combined_df, x='river_relative_to_image')\n",
    "\n",
    "plt.title(\"Distribution of River Coverage\")"
   ]
  },
  {
   "cell_type": "code",
   "execution_count": 18,
   "id": "e5aba533",
   "metadata": {
    "ExecuteTime": {
     "end_time": "2023-03-30T05:41:59.491029Z",
     "start_time": "2023-03-30T05:41:59.468019Z"
    }
   },
   "outputs": [],
   "source": [
    "combined_df['total_wh'] = combined_df['water_hyacinths'].apply(lambda x: sum([float(val) for val in x.split(',') if val != '']))\n",
    "combined_df['total_g'] = combined_df['garbage'].apply(lambda x: sum([float(val) for val in x.split(',') if val != '']))\n",
    "combined_df['total_b'] = combined_df['boats'].apply(lambda x: sum([float(val) for val in x.split(',') if val != '']))\n",
    "combined_df['total_o'] = combined_df['others'].apply(lambda x: sum([float(val) for val in x.split(',') if val != '']))"
   ]
  },
  {
   "cell_type": "code",
   "execution_count": 19,
   "id": "80b9e465",
   "metadata": {
    "ExecuteTime": {
     "end_time": "2023-03-30T05:42:00.157999Z",
     "start_time": "2023-03-30T05:42:00.151498Z"
    }
   },
   "outputs": [],
   "source": [
    "combined_df['wh_relative_to_river'] = combined_df['total_wh'] / combined_df['river_area']\n",
    "combined_df['g_relative_to_river'] = combined_df['total_g'] / combined_df['river_area']\n",
    "combined_df['b_relative_to_river'] = combined_df['total_b'] / combined_df['river_area']\n",
    "combined_df['o_relative_to_river'] = combined_df['total_o'] / combined_df['river_area']"
   ]
  },
  {
   "cell_type": "code",
   "execution_count": 20,
   "id": "54600b53",
   "metadata": {
    "ExecuteTime": {
     "end_time": "2023-03-30T05:42:00.669344Z",
     "start_time": "2023-03-30T05:42:00.648846Z"
    }
   },
   "outputs": [
    {
     "data": {
      "text/html": [
       "<div>\n",
       "<style scoped>\n",
       "    .dataframe tbody tr th:only-of-type {\n",
       "        vertical-align: middle;\n",
       "    }\n",
       "\n",
       "    .dataframe tbody tr th {\n",
       "        vertical-align: top;\n",
       "    }\n",
       "\n",
       "    .dataframe thead th {\n",
       "        text-align: right;\n",
       "    }\n",
       "</style>\n",
       "<table border=\"1\" class=\"dataframe\">\n",
       "  <thead>\n",
       "    <tr style=\"text-align: right;\">\n",
       "      <th></th>\n",
       "      <th>wh_relative_to_river</th>\n",
       "      <th>g_relative_to_river</th>\n",
       "      <th>b_relative_to_river</th>\n",
       "      <th>o_relative_to_river</th>\n",
       "    </tr>\n",
       "  </thead>\n",
       "  <tbody>\n",
       "    <tr>\n",
       "      <th>count</th>\n",
       "      <td>360.000000</td>\n",
       "      <td>360.000000</td>\n",
       "      <td>360.000000</td>\n",
       "      <td>360.000000</td>\n",
       "    </tr>\n",
       "    <tr>\n",
       "      <th>mean</th>\n",
       "      <td>0.005654</td>\n",
       "      <td>0.000401</td>\n",
       "      <td>0.009417</td>\n",
       "      <td>0.000071</td>\n",
       "    </tr>\n",
       "    <tr>\n",
       "      <th>std</th>\n",
       "      <td>0.026629</td>\n",
       "      <td>0.001129</td>\n",
       "      <td>0.046584</td>\n",
       "      <td>0.000812</td>\n",
       "    </tr>\n",
       "    <tr>\n",
       "      <th>min</th>\n",
       "      <td>0.000000</td>\n",
       "      <td>0.000000</td>\n",
       "      <td>0.000000</td>\n",
       "      <td>0.000000</td>\n",
       "    </tr>\n",
       "    <tr>\n",
       "      <th>25%</th>\n",
       "      <td>0.000161</td>\n",
       "      <td>0.000000</td>\n",
       "      <td>0.000000</td>\n",
       "      <td>0.000000</td>\n",
       "    </tr>\n",
       "    <tr>\n",
       "      <th>50%</th>\n",
       "      <td>0.000651</td>\n",
       "      <td>0.000043</td>\n",
       "      <td>0.000000</td>\n",
       "      <td>0.000000</td>\n",
       "    </tr>\n",
       "    <tr>\n",
       "      <th>75%</th>\n",
       "      <td>0.002422</td>\n",
       "      <td>0.000234</td>\n",
       "      <td>0.000000</td>\n",
       "      <td>0.000000</td>\n",
       "    </tr>\n",
       "    <tr>\n",
       "      <th>max</th>\n",
       "      <td>0.315565</td>\n",
       "      <td>0.011233</td>\n",
       "      <td>0.499499</td>\n",
       "      <td>0.014995</td>\n",
       "    </tr>\n",
       "  </tbody>\n",
       "</table>\n",
       "</div>"
      ],
      "text/plain": [
       "       wh_relative_to_river  g_relative_to_river  b_relative_to_river  \\\n",
       "count            360.000000           360.000000           360.000000   \n",
       "mean               0.005654             0.000401             0.009417   \n",
       "std                0.026629             0.001129             0.046584   \n",
       "min                0.000000             0.000000             0.000000   \n",
       "25%                0.000161             0.000000             0.000000   \n",
       "50%                0.000651             0.000043             0.000000   \n",
       "75%                0.002422             0.000234             0.000000   \n",
       "max                0.315565             0.011233             0.499499   \n",
       "\n",
       "       o_relative_to_river  \n",
       "count           360.000000  \n",
       "mean              0.000071  \n",
       "std               0.000812  \n",
       "min               0.000000  \n",
       "25%               0.000000  \n",
       "50%               0.000000  \n",
       "75%               0.000000  \n",
       "max               0.014995  "
      ]
     },
     "execution_count": 20,
     "metadata": {},
     "output_type": "execute_result"
    }
   ],
   "source": [
    "combined_df[['wh_relative_to_river', 'g_relative_to_river', 'b_relative_to_river', 'o_relative_to_river']].describe()"
   ]
  },
  {
   "cell_type": "code",
   "execution_count": 21,
   "id": "3d278c6c",
   "metadata": {
    "ExecuteTime": {
     "end_time": "2023-03-30T05:42:01.025954Z",
     "start_time": "2023-03-30T05:42:00.999453Z"
    }
   },
   "outputs": [
    {
     "data": {
      "text/html": [
       "<div>\n",
       "<style scoped>\n",
       "    .dataframe tbody tr th:only-of-type {\n",
       "        vertical-align: middle;\n",
       "    }\n",
       "\n",
       "    .dataframe tbody tr th {\n",
       "        vertical-align: top;\n",
       "    }\n",
       "\n",
       "    .dataframe thead th {\n",
       "        text-align: right;\n",
       "    }\n",
       "</style>\n",
       "<table border=\"1\" class=\"dataframe\">\n",
       "  <thead>\n",
       "    <tr style=\"text-align: right;\">\n",
       "      <th></th>\n",
       "      <th>name</th>\n",
       "      <th>height</th>\n",
       "      <th>width</th>\n",
       "      <th>area</th>\n",
       "      <th>river_area</th>\n",
       "      <th>river_relative_to_image</th>\n",
       "      <th>water_hyacinths</th>\n",
       "      <th>water_hyacinth_bounds</th>\n",
       "      <th>wh_count</th>\n",
       "      <th>garbage</th>\n",
       "      <th>...</th>\n",
       "      <th>n_objects</th>\n",
       "      <th>objects_found</th>\n",
       "      <th>total_wh</th>\n",
       "      <th>total_g</th>\n",
       "      <th>total_b</th>\n",
       "      <th>total_o</th>\n",
       "      <th>wh_relative_to_river</th>\n",
       "      <th>g_relative_to_river</th>\n",
       "      <th>b_relative_to_river</th>\n",
       "      <th>o_relative_to_river</th>\n",
       "    </tr>\n",
       "  </thead>\n",
       "  <tbody>\n",
       "    <tr>\n",
       "      <th>0</th>\n",
       "      <td>098a1d68568bc.jpg</td>\n",
       "      <td>2250</td>\n",
       "      <td>4000</td>\n",
       "      <td>9000000</td>\n",
       "      <td>7.109300e+06</td>\n",
       "      <td>0.789922</td>\n",
       "      <td>1601.45,700.06,2158.59,212.82,988.12,702.63</td>\n",
       "      <td>2248.29,505.18,2328.55,543.52|262.39,481.43,30...</td>\n",
       "      <td>6</td>\n",
       "      <td>450.63,112.58</td>\n",
       "      <td>...</td>\n",
       "      <td>9</td>\n",
       "      <td>wh+g+o</td>\n",
       "      <td>6363.67</td>\n",
       "      <td>563.21</td>\n",
       "      <td>0.0</td>\n",
       "      <td>161.35</td>\n",
       "      <td>0.000895</td>\n",
       "      <td>0.000079</td>\n",
       "      <td>0.0</td>\n",
       "      <td>0.000023</td>\n",
       "    </tr>\n",
       "    <tr>\n",
       "      <th>1</th>\n",
       "      <td>0bcf8ec7197b6.jpg</td>\n",
       "      <td>2250</td>\n",
       "      <td>4000</td>\n",
       "      <td>9000000</td>\n",
       "      <td>5.248960e+06</td>\n",
       "      <td>0.583218</td>\n",
       "      <td>3491.98,3261.25</td>\n",
       "      <td>436.94,834.35,599.95,871.16|2475.63,1007.40,26...</td>\n",
       "      <td>2</td>\n",
       "      <td>250.78,2111.14,372.59</td>\n",
       "      <td>...</td>\n",
       "      <td>5</td>\n",
       "      <td>wh+g</td>\n",
       "      <td>6753.23</td>\n",
       "      <td>2734.51</td>\n",
       "      <td>0.0</td>\n",
       "      <td>0.00</td>\n",
       "      <td>0.001287</td>\n",
       "      <td>0.000521</td>\n",
       "      <td>0.0</td>\n",
       "      <td>0.000000</td>\n",
       "    </tr>\n",
       "    <tr>\n",
       "      <th>2</th>\n",
       "      <td>10b9ed1b6f7a1.jpg</td>\n",
       "      <td>6000</td>\n",
       "      <td>8000</td>\n",
       "      <td>48000000</td>\n",
       "      <td>3.300106e+07</td>\n",
       "      <td>0.687522</td>\n",
       "      <td>504.41,10393862.49,3545.15,9387.88,1263.40,303...</td>\n",
       "      <td>1788.27,1903.47,1838.92,1937.82|3285.56,2639.7...</td>\n",
       "      <td>7</td>\n",
       "      <td>1904.18</td>\n",
       "      <td>...</td>\n",
       "      <td>8</td>\n",
       "      <td>wh+g</td>\n",
       "      <td>10413985.19</td>\n",
       "      <td>1904.18</td>\n",
       "      <td>0.0</td>\n",
       "      <td>0.00</td>\n",
       "      <td>0.315565</td>\n",
       "      <td>0.000058</td>\n",
       "      <td>0.0</td>\n",
       "      <td>0.000000</td>\n",
       "    </tr>\n",
       "    <tr>\n",
       "      <th>3</th>\n",
       "      <td>1488a698e63bd.jpg</td>\n",
       "      <td>2250</td>\n",
       "      <td>4000</td>\n",
       "      <td>9000000</td>\n",
       "      <td>6.838209e+06</td>\n",
       "      <td>0.759801</td>\n",
       "      <td>833.01,673.73,731.12</td>\n",
       "      <td>3808.70,726.13,3859.95,754.70|1448.01,768.40,1...</td>\n",
       "      <td>3</td>\n",
       "      <td></td>\n",
       "      <td>...</td>\n",
       "      <td>3</td>\n",
       "      <td>wh</td>\n",
       "      <td>2237.86</td>\n",
       "      <td>0.00</td>\n",
       "      <td>0.0</td>\n",
       "      <td>0.00</td>\n",
       "      <td>0.000327</td>\n",
       "      <td>0.000000</td>\n",
       "      <td>0.0</td>\n",
       "      <td>0.000000</td>\n",
       "    </tr>\n",
       "    <tr>\n",
       "      <th>4</th>\n",
       "      <td>154f0cb77c45e.jpg</td>\n",
       "      <td>2250</td>\n",
       "      <td>4000</td>\n",
       "      <td>9000000</td>\n",
       "      <td>7.526385e+06</td>\n",
       "      <td>0.836265</td>\n",
       "      <td>492.94,222.14</td>\n",
       "      <td>3486.60,397.46,3523.62,415.46|1356.79,467.61,1...</td>\n",
       "      <td>2</td>\n",
       "      <td></td>\n",
       "      <td>...</td>\n",
       "      <td>2</td>\n",
       "      <td>wh</td>\n",
       "      <td>715.08</td>\n",
       "      <td>0.00</td>\n",
       "      <td>0.0</td>\n",
       "      <td>0.00</td>\n",
       "      <td>0.000095</td>\n",
       "      <td>0.000000</td>\n",
       "      <td>0.0</td>\n",
       "      <td>0.000000</td>\n",
       "    </tr>\n",
       "  </tbody>\n",
       "</table>\n",
       "<p>5 rows × 32 columns</p>\n",
       "</div>"
      ],
      "text/plain": [
       "                name  height  width      area    river_area  \\\n",
       "0  098a1d68568bc.jpg    2250   4000   9000000  7.109300e+06   \n",
       "1  0bcf8ec7197b6.jpg    2250   4000   9000000  5.248960e+06   \n",
       "2  10b9ed1b6f7a1.jpg    6000   8000  48000000  3.300106e+07   \n",
       "3  1488a698e63bd.jpg    2250   4000   9000000  6.838209e+06   \n",
       "4  154f0cb77c45e.jpg    2250   4000   9000000  7.526385e+06   \n",
       "\n",
       "   river_relative_to_image                                    water_hyacinths  \\\n",
       "0                 0.789922        1601.45,700.06,2158.59,212.82,988.12,702.63   \n",
       "1                 0.583218                                    3491.98,3261.25   \n",
       "2                 0.687522  504.41,10393862.49,3545.15,9387.88,1263.40,303...   \n",
       "3                 0.759801                               833.01,673.73,731.12   \n",
       "4                 0.836265                                      492.94,222.14   \n",
       "\n",
       "                               water_hyacinth_bounds  wh_count  \\\n",
       "0  2248.29,505.18,2328.55,543.52|262.39,481.43,30...         6   \n",
       "1  436.94,834.35,599.95,871.16|2475.63,1007.40,26...         2   \n",
       "2  1788.27,1903.47,1838.92,1937.82|3285.56,2639.7...         7   \n",
       "3  3808.70,726.13,3859.95,754.70|1448.01,768.40,1...         3   \n",
       "4  3486.60,397.46,3523.62,415.46|1356.79,467.61,1...         2   \n",
       "\n",
       "                 garbage  ... n_objects  objects_found     total_wh  total_g  \\\n",
       "0          450.63,112.58  ...         9         wh+g+o      6363.67   563.21   \n",
       "1  250.78,2111.14,372.59  ...         5           wh+g      6753.23  2734.51   \n",
       "2                1904.18  ...         8           wh+g  10413985.19  1904.18   \n",
       "3                         ...         3             wh      2237.86     0.00   \n",
       "4                         ...         2             wh       715.08     0.00   \n",
       "\n",
       "  total_b  total_o wh_relative_to_river g_relative_to_river  \\\n",
       "0     0.0   161.35             0.000895            0.000079   \n",
       "1     0.0     0.00             0.001287            0.000521   \n",
       "2     0.0     0.00             0.315565            0.000058   \n",
       "3     0.0     0.00             0.000327            0.000000   \n",
       "4     0.0     0.00             0.000095            0.000000   \n",
       "\n",
       "  b_relative_to_river  o_relative_to_river  \n",
       "0                 0.0             0.000023  \n",
       "1                 0.0             0.000000  \n",
       "2                 0.0             0.000000  \n",
       "3                 0.0             0.000000  \n",
       "4                 0.0             0.000000  \n",
       "\n",
       "[5 rows x 32 columns]"
      ]
     },
     "execution_count": 21,
     "metadata": {},
     "output_type": "execute_result"
    }
   ],
   "source": [
    "combined_df.head()"
   ]
  },
  {
   "cell_type": "code",
   "execution_count": 22,
   "id": "8ff4ff22",
   "metadata": {
    "ExecuteTime": {
     "end_time": "2023-03-30T05:42:01.398087Z",
     "start_time": "2023-03-30T05:42:01.368586Z"
    }
   },
   "outputs": [
    {
     "data": {
      "text/html": [
       "<div>\n",
       "<style scoped>\n",
       "    .dataframe tbody tr th:only-of-type {\n",
       "        vertical-align: middle;\n",
       "    }\n",
       "\n",
       "    .dataframe tbody tr th {\n",
       "        vertical-align: top;\n",
       "    }\n",
       "\n",
       "    .dataframe thead th {\n",
       "        text-align: right;\n",
       "    }\n",
       "</style>\n",
       "<table border=\"1\" class=\"dataframe\">\n",
       "  <thead>\n",
       "    <tr style=\"text-align: right;\">\n",
       "      <th></th>\n",
       "      <th>name</th>\n",
       "      <th>height</th>\n",
       "      <th>width</th>\n",
       "      <th>area</th>\n",
       "      <th>river_area</th>\n",
       "      <th>river_relative_to_image</th>\n",
       "      <th>water_hyacinths</th>\n",
       "      <th>water_hyacinth_bounds</th>\n",
       "      <th>wh_count</th>\n",
       "      <th>garbage</th>\n",
       "      <th>...</th>\n",
       "      <th>n_objects</th>\n",
       "      <th>objects_found</th>\n",
       "      <th>total_wh</th>\n",
       "      <th>total_g</th>\n",
       "      <th>total_b</th>\n",
       "      <th>total_o</th>\n",
       "      <th>wh_relative_to_river</th>\n",
       "      <th>g_relative_to_river</th>\n",
       "      <th>b_relative_to_river</th>\n",
       "      <th>o_relative_to_river</th>\n",
       "    </tr>\n",
       "  </thead>\n",
       "  <tbody>\n",
       "    <tr>\n",
       "      <th>2</th>\n",
       "      <td>10b9ed1b6f7a1.jpg</td>\n",
       "      <td>6000</td>\n",
       "      <td>8000</td>\n",
       "      <td>48000000</td>\n",
       "      <td>3.300106e+07</td>\n",
       "      <td>0.687522</td>\n",
       "      <td>504.41,10393862.49,3545.15,9387.88,1263.40,303...</td>\n",
       "      <td>1788.27,1903.47,1838.92,1937.82|3285.56,2639.7...</td>\n",
       "      <td>7</td>\n",
       "      <td>1904.18</td>\n",
       "      <td>...</td>\n",
       "      <td>8</td>\n",
       "      <td>wh+g</td>\n",
       "      <td>10413985.19</td>\n",
       "      <td>1904.18</td>\n",
       "      <td>0.00</td>\n",
       "      <td>0.0</td>\n",
       "      <td>0.315565</td>\n",
       "      <td>0.000058</td>\n",
       "      <td>0.000000</td>\n",
       "      <td>0.0</td>\n",
       "    </tr>\n",
       "    <tr>\n",
       "      <th>168</th>\n",
       "      <td>f43bb3ac63ddf.jpg</td>\n",
       "      <td>2250</td>\n",
       "      <td>4000</td>\n",
       "      <td>9000000</td>\n",
       "      <td>4.608956e+06</td>\n",
       "      <td>0.512106</td>\n",
       "      <td>3300.46,240.23,1049996.84,168.37,246.05,27.12,...</td>\n",
       "      <td>2184.47,1878.37,2289.87,1931.81|3078.19,1115.5...</td>\n",
       "      <td>14</td>\n",
       "      <td>4023.56,532.42,200.80,470.72,904.72,719.11,117...</td>\n",
       "      <td>...</td>\n",
       "      <td>38</td>\n",
       "      <td>wh+g+b</td>\n",
       "      <td>1189099.10</td>\n",
       "      <td>36525.96</td>\n",
       "      <td>1003540.80</td>\n",
       "      <td>0.0</td>\n",
       "      <td>0.257997</td>\n",
       "      <td>0.007925</td>\n",
       "      <td>0.217737</td>\n",
       "      <td>0.0</td>\n",
       "    </tr>\n",
       "    <tr>\n",
       "      <th>148</th>\n",
       "      <td>b898834e0c802.jpg</td>\n",
       "      <td>2250</td>\n",
       "      <td>4000</td>\n",
       "      <td>9000000</td>\n",
       "      <td>7.202757e+06</td>\n",
       "      <td>0.800306</td>\n",
       "      <td>151.08,765323.54,528492.14,770.38</td>\n",
       "      <td>2487.97,394.53,2513.04,402.19|460.55,1538.69,2...</td>\n",
       "      <td>4</td>\n",
       "      <td>935.84,7239.49,2240.84,711.84,12126.47,2149.16...</td>\n",
       "      <td>...</td>\n",
       "      <td>16</td>\n",
       "      <td>wh+g</td>\n",
       "      <td>1294737.14</td>\n",
       "      <td>39423.07</td>\n",
       "      <td>0.00</td>\n",
       "      <td>0.0</td>\n",
       "      <td>0.179756</td>\n",
       "      <td>0.005473</td>\n",
       "      <td>0.000000</td>\n",
       "      <td>0.0</td>\n",
       "    </tr>\n",
       "    <tr>\n",
       "      <th>105</th>\n",
       "      <td>6660bfd083303.jpg</td>\n",
       "      <td>2250</td>\n",
       "      <td>4000</td>\n",
       "      <td>9000000</td>\n",
       "      <td>5.828242e+06</td>\n",
       "      <td>0.647582</td>\n",
       "      <td>715447.31,424.65,1082.37,265.43,222.98,1275.04...</td>\n",
       "      <td>1330.82,616.47,3196.72,1344.74|2971.67,1118.92...</td>\n",
       "      <td>17</td>\n",
       "      <td>121.75,391.16,176.15,913.32,427.28,484.28,253....</td>\n",
       "      <td>...</td>\n",
       "      <td>47</td>\n",
       "      <td>wh+g+b</td>\n",
       "      <td>975941.85</td>\n",
       "      <td>22869.57</td>\n",
       "      <td>738074.03</td>\n",
       "      <td>0.0</td>\n",
       "      <td>0.167450</td>\n",
       "      <td>0.003924</td>\n",
       "      <td>0.126638</td>\n",
       "      <td>0.0</td>\n",
       "    </tr>\n",
       "    <tr>\n",
       "      <th>163</th>\n",
       "      <td>dd84333a1a776.jpg</td>\n",
       "      <td>2250</td>\n",
       "      <td>4000</td>\n",
       "      <td>9000000</td>\n",
       "      <td>7.331914e+06</td>\n",
       "      <td>0.814657</td>\n",
       "      <td>136.30,658388.71,172.49,170.94,3411.93,364.21,...</td>\n",
       "      <td>975.38,1822.82,988.10,1836.61|0.00,1706.77,195...</td>\n",
       "      <td>16</td>\n",
       "      <td>1080.67,12234.33,18102.13,2176.88,1498.64,622....</td>\n",
       "      <td>...</td>\n",
       "      <td>27</td>\n",
       "      <td>wh+g</td>\n",
       "      <td>1089247.23</td>\n",
       "      <td>49819.93</td>\n",
       "      <td>0.00</td>\n",
       "      <td>0.0</td>\n",
       "      <td>0.148562</td>\n",
       "      <td>0.006795</td>\n",
       "      <td>0.000000</td>\n",
       "      <td>0.0</td>\n",
       "    </tr>\n",
       "  </tbody>\n",
       "</table>\n",
       "<p>5 rows × 32 columns</p>\n",
       "</div>"
      ],
      "text/plain": [
       "                  name  height  width      area    river_area  \\\n",
       "2    10b9ed1b6f7a1.jpg    6000   8000  48000000  3.300106e+07   \n",
       "168  f43bb3ac63ddf.jpg    2250   4000   9000000  4.608956e+06   \n",
       "148  b898834e0c802.jpg    2250   4000   9000000  7.202757e+06   \n",
       "105  6660bfd083303.jpg    2250   4000   9000000  5.828242e+06   \n",
       "163  dd84333a1a776.jpg    2250   4000   9000000  7.331914e+06   \n",
       "\n",
       "     river_relative_to_image  \\\n",
       "2                   0.687522   \n",
       "168                 0.512106   \n",
       "148                 0.800306   \n",
       "105                 0.647582   \n",
       "163                 0.814657   \n",
       "\n",
       "                                       water_hyacinths  \\\n",
       "2    504.41,10393862.49,3545.15,9387.88,1263.40,303...   \n",
       "168  3300.46,240.23,1049996.84,168.37,246.05,27.12,...   \n",
       "148                  151.08,765323.54,528492.14,770.38   \n",
       "105  715447.31,424.65,1082.37,265.43,222.98,1275.04...   \n",
       "163  136.30,658388.71,172.49,170.94,3411.93,364.21,...   \n",
       "\n",
       "                                 water_hyacinth_bounds  wh_count  \\\n",
       "2    1788.27,1903.47,1838.92,1937.82|3285.56,2639.7...         7   \n",
       "168  2184.47,1878.37,2289.87,1931.81|3078.19,1115.5...        14   \n",
       "148  2487.97,394.53,2513.04,402.19|460.55,1538.69,2...         4   \n",
       "105  1330.82,616.47,3196.72,1344.74|2971.67,1118.92...        17   \n",
       "163  975.38,1822.82,988.10,1836.61|0.00,1706.77,195...        16   \n",
       "\n",
       "                                               garbage  ... n_objects  \\\n",
       "2                                              1904.18  ...         8   \n",
       "168  4023.56,532.42,200.80,470.72,904.72,719.11,117...  ...        38   \n",
       "148  935.84,7239.49,2240.84,711.84,12126.47,2149.16...  ...        16   \n",
       "105  121.75,391.16,176.15,913.32,427.28,484.28,253....  ...        47   \n",
       "163  1080.67,12234.33,18102.13,2176.88,1498.64,622....  ...        27   \n",
       "\n",
       "     objects_found     total_wh   total_g     total_b  total_o  \\\n",
       "2             wh+g  10413985.19   1904.18        0.00      0.0   \n",
       "168         wh+g+b   1189099.10  36525.96  1003540.80      0.0   \n",
       "148           wh+g   1294737.14  39423.07        0.00      0.0   \n",
       "105         wh+g+b    975941.85  22869.57   738074.03      0.0   \n",
       "163           wh+g   1089247.23  49819.93        0.00      0.0   \n",
       "\n",
       "    wh_relative_to_river g_relative_to_river b_relative_to_river  \\\n",
       "2               0.315565            0.000058            0.000000   \n",
       "168             0.257997            0.007925            0.217737   \n",
       "148             0.179756            0.005473            0.000000   \n",
       "105             0.167450            0.003924            0.126638   \n",
       "163             0.148562            0.006795            0.000000   \n",
       "\n",
       "     o_relative_to_river  \n",
       "2                    0.0  \n",
       "168                  0.0  \n",
       "148                  0.0  \n",
       "105                  0.0  \n",
       "163                  0.0  \n",
       "\n",
       "[5 rows x 32 columns]"
      ]
     },
     "execution_count": 22,
     "metadata": {},
     "output_type": "execute_result"
    }
   ],
   "source": [
    "combined_df.sort_values('wh_relative_to_river', ascending=False).head()"
   ]
  },
  {
   "cell_type": "code",
   "execution_count": 23,
   "id": "4d31907a",
   "metadata": {
    "ExecuteTime": {
     "end_time": "2023-03-30T05:42:01.754679Z",
     "start_time": "2023-03-30T05:42:01.735667Z"
    }
   },
   "outputs": [
    {
     "data": {
      "text/html": [
       "<div>\n",
       "<style scoped>\n",
       "    .dataframe tbody tr th:only-of-type {\n",
       "        vertical-align: middle;\n",
       "    }\n",
       "\n",
       "    .dataframe tbody tr th {\n",
       "        vertical-align: top;\n",
       "    }\n",
       "\n",
       "    .dataframe thead th {\n",
       "        text-align: right;\n",
       "    }\n",
       "</style>\n",
       "<table border=\"1\" class=\"dataframe\">\n",
       "  <thead>\n",
       "    <tr style=\"text-align: right;\">\n",
       "      <th></th>\n",
       "      <th>name</th>\n",
       "      <th>height</th>\n",
       "      <th>width</th>\n",
       "      <th>area</th>\n",
       "      <th>river_area</th>\n",
       "      <th>river_relative_to_image</th>\n",
       "      <th>water_hyacinths</th>\n",
       "      <th>water_hyacinth_bounds</th>\n",
       "      <th>wh_count</th>\n",
       "      <th>garbage</th>\n",
       "      <th>...</th>\n",
       "      <th>n_objects</th>\n",
       "      <th>objects_found</th>\n",
       "      <th>total_wh</th>\n",
       "      <th>total_g</th>\n",
       "      <th>total_b</th>\n",
       "      <th>total_o</th>\n",
       "      <th>wh_relative_to_river</th>\n",
       "      <th>g_relative_to_river</th>\n",
       "      <th>b_relative_to_river</th>\n",
       "      <th>o_relative_to_river</th>\n",
       "    </tr>\n",
       "  </thead>\n",
       "  <tbody>\n",
       "    <tr>\n",
       "      <th>51</th>\n",
       "      <td>9af65325b6362.jpg</td>\n",
       "      <td>2250</td>\n",
       "      <td>4000</td>\n",
       "      <td>9000000</td>\n",
       "      <td>4.531375e+06</td>\n",
       "      <td>0.503486</td>\n",
       "      <td>11300.88,388.40,14127.45,709.62,517.65</td>\n",
       "      <td>3631.78,532.06,3897.09,585.56|2332.83,720.98,2...</td>\n",
       "      <td>5</td>\n",
       "      <td></td>\n",
       "      <td>...</td>\n",
       "      <td>6</td>\n",
       "      <td>wh+b</td>\n",
       "      <td>27044.00</td>\n",
       "      <td>0.00</td>\n",
       "      <td>2263417.57</td>\n",
       "      <td>0.0</td>\n",
       "      <td>0.005968</td>\n",
       "      <td>0.000000</td>\n",
       "      <td>0.499499</td>\n",
       "      <td>0.0</td>\n",
       "    </tr>\n",
       "    <tr>\n",
       "      <th>169</th>\n",
       "      <td>f4bd2f7908857.jpg</td>\n",
       "      <td>2250</td>\n",
       "      <td>4000</td>\n",
       "      <td>9000000</td>\n",
       "      <td>6.920845e+06</td>\n",
       "      <td>0.768983</td>\n",
       "      <td>142362.68,109345.05</td>\n",
       "      <td>0.00,1514.81,766.54,1918.38|909.82,1835.85,177...</td>\n",
       "      <td>2</td>\n",
       "      <td>1124.27</td>\n",
       "      <td>...</td>\n",
       "      <td>4</td>\n",
       "      <td>wh+g+b</td>\n",
       "      <td>251707.73</td>\n",
       "      <td>1124.27</td>\n",
       "      <td>3301857.84</td>\n",
       "      <td>0.0</td>\n",
       "      <td>0.036370</td>\n",
       "      <td>0.000162</td>\n",
       "      <td>0.477089</td>\n",
       "      <td>0.0</td>\n",
       "    </tr>\n",
       "  </tbody>\n",
       "</table>\n",
       "<p>2 rows × 32 columns</p>\n",
       "</div>"
      ],
      "text/plain": [
       "                  name  height  width     area    river_area  \\\n",
       "51   9af65325b6362.jpg    2250   4000  9000000  4.531375e+06   \n",
       "169  f4bd2f7908857.jpg    2250   4000  9000000  6.920845e+06   \n",
       "\n",
       "     river_relative_to_image                         water_hyacinths  \\\n",
       "51                  0.503486  11300.88,388.40,14127.45,709.62,517.65   \n",
       "169                 0.768983                     142362.68,109345.05   \n",
       "\n",
       "                                 water_hyacinth_bounds  wh_count  garbage  \\\n",
       "51   3631.78,532.06,3897.09,585.56|2332.83,720.98,2...         5            \n",
       "169  0.00,1514.81,766.54,1918.38|909.82,1835.85,177...         2  1124.27   \n",
       "\n",
       "     ... n_objects  objects_found   total_wh  total_g     total_b  total_o  \\\n",
       "51   ...         6           wh+b   27044.00     0.00  2263417.57      0.0   \n",
       "169  ...         4         wh+g+b  251707.73  1124.27  3301857.84      0.0   \n",
       "\n",
       "    wh_relative_to_river g_relative_to_river b_relative_to_river  \\\n",
       "51              0.005968            0.000000            0.499499   \n",
       "169             0.036370            0.000162            0.477089   \n",
       "\n",
       "     o_relative_to_river  \n",
       "51                   0.0  \n",
       "169                  0.0  \n",
       "\n",
       "[2 rows x 32 columns]"
      ]
     },
     "execution_count": 23,
     "metadata": {},
     "output_type": "execute_result"
    }
   ],
   "source": [
    "combined_df[combined_df['b_relative_to_river'] > 0.4]"
   ]
  },
  {
   "cell_type": "markdown",
   "id": "3e2bf004",
   "metadata": {},
   "source": [
    "### Image with most water hyacinths"
   ]
  },
  {
   "cell_type": "code",
   "execution_count": 24,
   "id": "e0787bfc",
   "metadata": {
    "ExecuteTime": {
     "end_time": "2023-03-30T05:42:02.452394Z",
     "start_time": "2023-03-30T05:42:02.426328Z"
    }
   },
   "outputs": [
    {
     "data": {
      "text/html": [
       "<div>\n",
       "<style scoped>\n",
       "    .dataframe tbody tr th:only-of-type {\n",
       "        vertical-align: middle;\n",
       "    }\n",
       "\n",
       "    .dataframe tbody tr th {\n",
       "        vertical-align: top;\n",
       "    }\n",
       "\n",
       "    .dataframe thead th {\n",
       "        text-align: right;\n",
       "    }\n",
       "</style>\n",
       "<table border=\"1\" class=\"dataframe\">\n",
       "  <thead>\n",
       "    <tr style=\"text-align: right;\">\n",
       "      <th></th>\n",
       "      <th>name</th>\n",
       "      <th>height</th>\n",
       "      <th>width</th>\n",
       "      <th>area</th>\n",
       "      <th>river_area</th>\n",
       "      <th>river_relative_to_image</th>\n",
       "      <th>water_hyacinths</th>\n",
       "      <th>water_hyacinth_bounds</th>\n",
       "      <th>wh_count</th>\n",
       "      <th>garbage</th>\n",
       "      <th>...</th>\n",
       "      <th>n_objects</th>\n",
       "      <th>objects_found</th>\n",
       "      <th>total_wh</th>\n",
       "      <th>total_g</th>\n",
       "      <th>total_b</th>\n",
       "      <th>total_o</th>\n",
       "      <th>wh_relative_to_river</th>\n",
       "      <th>g_relative_to_river</th>\n",
       "      <th>b_relative_to_river</th>\n",
       "      <th>o_relative_to_river</th>\n",
       "    </tr>\n",
       "  </thead>\n",
       "  <tbody>\n",
       "    <tr>\n",
       "      <th>8</th>\n",
       "      <td>1eb0743881e5f.jpg</td>\n",
       "      <td>2250</td>\n",
       "      <td>4000</td>\n",
       "      <td>9000000</td>\n",
       "      <td>8.929242e+06</td>\n",
       "      <td>0.992138</td>\n",
       "      <td>1177.14,412.20,173.56,95.88,733.75,331.19,135....</td>\n",
       "      <td>1425.51,1116.75,1489.36,1159.57|1323.01,768.85...</td>\n",
       "      <td>205</td>\n",
       "      <td>1334.59</td>\n",
       "      <td>...</td>\n",
       "      <td>206</td>\n",
       "      <td>wh+g</td>\n",
       "      <td>149447.48</td>\n",
       "      <td>1334.59</td>\n",
       "      <td>0.00</td>\n",
       "      <td>0.00</td>\n",
       "      <td>0.016737</td>\n",
       "      <td>0.000149</td>\n",
       "      <td>0.000000</td>\n",
       "      <td>0.000000</td>\n",
       "    </tr>\n",
       "    <tr>\n",
       "      <th>330</th>\n",
       "      <td>66fd99b75f6c7.jpg</td>\n",
       "      <td>1440</td>\n",
       "      <td>2560</td>\n",
       "      <td>3686400</td>\n",
       "      <td>2.628849e+06</td>\n",
       "      <td>0.713121</td>\n",
       "      <td>543.57,7.55,11.11,65.22,25.46,15.99,10.68,41.8...</td>\n",
       "      <td>974.50,594.64,1029.79,621.05|1122.47,613.34,11...</td>\n",
       "      <td>68</td>\n",
       "      <td>35.40,57.30,33.28,37.54,112.40,194.99,28.81,16...</td>\n",
       "      <td>...</td>\n",
       "      <td>106</td>\n",
       "      <td>wh+g+b</td>\n",
       "      <td>13294.64</td>\n",
       "      <td>1900.76</td>\n",
       "      <td>9989.08</td>\n",
       "      <td>0.00</td>\n",
       "      <td>0.005057</td>\n",
       "      <td>0.000723</td>\n",
       "      <td>0.003800</td>\n",
       "      <td>0.000000</td>\n",
       "    </tr>\n",
       "    <tr>\n",
       "      <th>135</th>\n",
       "      <td>9a51bf2d4ae.jpg</td>\n",
       "      <td>2250</td>\n",
       "      <td>4000</td>\n",
       "      <td>9000000</td>\n",
       "      <td>6.561411e+06</td>\n",
       "      <td>0.729046</td>\n",
       "      <td>3691.36,21892.45,110.44,933.66,124.79,288.42,8...</td>\n",
       "      <td>3763.84,2171.94,3970.45,2206.30|0.00,1968.21,2...</td>\n",
       "      <td>63</td>\n",
       "      <td>315.44,5993.83,1935.11,729.52,7365.70,246.40,2...</td>\n",
       "      <td>...</td>\n",
       "      <td>74</td>\n",
       "      <td>wh+g</td>\n",
       "      <td>102901.03</td>\n",
       "      <td>73704.16</td>\n",
       "      <td>0.00</td>\n",
       "      <td>0.00</td>\n",
       "      <td>0.015683</td>\n",
       "      <td>0.011233</td>\n",
       "      <td>0.000000</td>\n",
       "      <td>0.000000</td>\n",
       "    </tr>\n",
       "    <tr>\n",
       "      <th>280</th>\n",
       "      <td>1cfecac9fd128.jpg</td>\n",
       "      <td>1440</td>\n",
       "      <td>2560</td>\n",
       "      <td>3686400</td>\n",
       "      <td>2.544791e+06</td>\n",
       "      <td>0.690319</td>\n",
       "      <td>4563.77,2543.15,1601.18,524.74,165.11,3132.00,...</td>\n",
       "      <td>799.63,1010.27,1056.39,1075.42|125.95,1024.41,...</td>\n",
       "      <td>38</td>\n",
       "      <td>56.72,202.31,220.93,274.94,148.27,498.41,188.8...</td>\n",
       "      <td>...</td>\n",
       "      <td>78</td>\n",
       "      <td>wh+g+b+o</td>\n",
       "      <td>33511.68</td>\n",
       "      <td>9326.46</td>\n",
       "      <td>215.36</td>\n",
       "      <td>551.74</td>\n",
       "      <td>0.013169</td>\n",
       "      <td>0.003665</td>\n",
       "      <td>0.000085</td>\n",
       "      <td>0.000217</td>\n",
       "    </tr>\n",
       "    <tr>\n",
       "      <th>319</th>\n",
       "      <td>5a1655525eb37.jpg</td>\n",
       "      <td>2250</td>\n",
       "      <td>4000</td>\n",
       "      <td>9000000</td>\n",
       "      <td>6.801088e+06</td>\n",
       "      <td>0.755676</td>\n",
       "      <td>121.80,750.73,153.14,174.42,294.59,291.18,95.0...</td>\n",
       "      <td>721.05,526.75,744.24,537.55|2935.16,676.52,299...</td>\n",
       "      <td>36</td>\n",
       "      <td>537.52,40.22,117.98,52.45,324.61,47.32</td>\n",
       "      <td>...</td>\n",
       "      <td>42</td>\n",
       "      <td>wh+g</td>\n",
       "      <td>23072.73</td>\n",
       "      <td>1120.10</td>\n",
       "      <td>0.00</td>\n",
       "      <td>0.00</td>\n",
       "      <td>0.003393</td>\n",
       "      <td>0.000165</td>\n",
       "      <td>0.000000</td>\n",
       "      <td>0.000000</td>\n",
       "    </tr>\n",
       "  </tbody>\n",
       "</table>\n",
       "<p>5 rows × 32 columns</p>\n",
       "</div>"
      ],
      "text/plain": [
       "                  name  height  width     area    river_area  \\\n",
       "8    1eb0743881e5f.jpg    2250   4000  9000000  8.929242e+06   \n",
       "330  66fd99b75f6c7.jpg    1440   2560  3686400  2.628849e+06   \n",
       "135    9a51bf2d4ae.jpg    2250   4000  9000000  6.561411e+06   \n",
       "280  1cfecac9fd128.jpg    1440   2560  3686400  2.544791e+06   \n",
       "319  5a1655525eb37.jpg    2250   4000  9000000  6.801088e+06   \n",
       "\n",
       "     river_relative_to_image  \\\n",
       "8                   0.992138   \n",
       "330                 0.713121   \n",
       "135                 0.729046   \n",
       "280                 0.690319   \n",
       "319                 0.755676   \n",
       "\n",
       "                                       water_hyacinths  \\\n",
       "8    1177.14,412.20,173.56,95.88,733.75,331.19,135....   \n",
       "330  543.57,7.55,11.11,65.22,25.46,15.99,10.68,41.8...   \n",
       "135  3691.36,21892.45,110.44,933.66,124.79,288.42,8...   \n",
       "280  4563.77,2543.15,1601.18,524.74,165.11,3132.00,...   \n",
       "319  121.80,750.73,153.14,174.42,294.59,291.18,95.0...   \n",
       "\n",
       "                                 water_hyacinth_bounds  wh_count  \\\n",
       "8    1425.51,1116.75,1489.36,1159.57|1323.01,768.85...       205   \n",
       "330  974.50,594.64,1029.79,621.05|1122.47,613.34,11...        68   \n",
       "135  3763.84,2171.94,3970.45,2206.30|0.00,1968.21,2...        63   \n",
       "280  799.63,1010.27,1056.39,1075.42|125.95,1024.41,...        38   \n",
       "319  721.05,526.75,744.24,537.55|2935.16,676.52,299...        36   \n",
       "\n",
       "                                               garbage  ... n_objects  \\\n",
       "8                                              1334.59  ...       206   \n",
       "330  35.40,57.30,33.28,37.54,112.40,194.99,28.81,16...  ...       106   \n",
       "135  315.44,5993.83,1935.11,729.52,7365.70,246.40,2...  ...        74   \n",
       "280  56.72,202.31,220.93,274.94,148.27,498.41,188.8...  ...        78   \n",
       "319             537.52,40.22,117.98,52.45,324.61,47.32  ...        42   \n",
       "\n",
       "     objects_found   total_wh   total_g  total_b  total_o  \\\n",
       "8             wh+g  149447.48   1334.59     0.00     0.00   \n",
       "330         wh+g+b   13294.64   1900.76  9989.08     0.00   \n",
       "135           wh+g  102901.03  73704.16     0.00     0.00   \n",
       "280       wh+g+b+o   33511.68   9326.46   215.36   551.74   \n",
       "319           wh+g   23072.73   1120.10     0.00     0.00   \n",
       "\n",
       "    wh_relative_to_river g_relative_to_river b_relative_to_river  \\\n",
       "8               0.016737            0.000149            0.000000   \n",
       "330             0.005057            0.000723            0.003800   \n",
       "135             0.015683            0.011233            0.000000   \n",
       "280             0.013169            0.003665            0.000085   \n",
       "319             0.003393            0.000165            0.000000   \n",
       "\n",
       "     o_relative_to_river  \n",
       "8               0.000000  \n",
       "330             0.000000  \n",
       "135             0.000000  \n",
       "280             0.000217  \n",
       "319             0.000000  \n",
       "\n",
       "[5 rows x 32 columns]"
      ]
     },
     "execution_count": 24,
     "metadata": {},
     "output_type": "execute_result"
    }
   ],
   "source": [
    "top_5_most_water_hyacinths = combined_df['water_hyacinths'].apply(lambda x: len(x.split(','))).sort_values(ascending=False).head(5).index\n",
    "combined_df.iloc[top_5_most_water_hyacinths]"
   ]
  },
  {
   "cell_type": "markdown",
   "id": "f2a276b6",
   "metadata": {},
   "source": [
    "### Collection Period"
   ]
  },
  {
   "cell_type": "code",
   "execution_count": 25,
   "id": "83dd8d6b",
   "metadata": {
    "ExecuteTime": {
     "end_time": "2023-03-30T05:42:03.271557Z",
     "start_time": "2023-03-30T05:42:03.259050Z"
    }
   },
   "outputs": [
    {
     "name": "stderr",
     "output_type": "stream",
     "text": [
      "C:\\Users\\chris\\AppData\\Local\\Temp\\ipykernel_78776\\1948848804.py:1: FutureWarning: Series.dt.weekofyear and Series.dt.week have been deprecated. Please use Series.dt.isocalendar().week instead.\n",
      "  combined_df['week'] = combined_df['datetime'].dt.week\n"
     ]
    },
    {
     "data": {
      "text/plain": [
       "week  year\n",
       "1     2023     23\n",
       "2     2023     42\n",
       "3     2023     27\n",
       "4     2023     71\n",
       "5     2023     43\n",
       "6     2023    143\n",
       "52    2022     11\n",
       "Name: name, dtype: int64"
      ]
     },
     "execution_count": 25,
     "metadata": {},
     "output_type": "execute_result"
    }
   ],
   "source": [
    "combined_df['week'] = combined_df['datetime'].dt.week\n",
    "combined_df['year'] = combined_df['datetime'].dt.year\n",
    "\n",
    "combined_df.groupby(['week', 'year'])['name'].count()"
   ]
  },
  {
   "cell_type": "markdown",
   "id": "880ff9b8",
   "metadata": {},
   "source": [
    "## Cluster Image From One another based on distance"
   ]
  },
  {
   "cell_type": "code",
   "execution_count": 26,
   "id": "b0f1ed6e",
   "metadata": {
    "ExecuteTime": {
     "end_time": "2023-03-30T05:42:04.078325Z",
     "start_time": "2023-03-30T05:42:04.057825Z"
    }
   },
   "outputs": [
    {
     "data": {
      "text/plain": [
       "array([[121.0389983,  14.5674289],\n",
       "       [121.037243 ,  14.5663649],\n",
       "       [120.9776222,  14.5967402],\n",
       "       [121.0448879,  14.5683104],\n",
       "       [121.0392065,  14.5674346]])"
      ]
     },
     "execution_count": 26,
     "metadata": {},
     "output_type": "execute_result"
    }
   ],
   "source": [
    "coords = np.array(combined_df[['longitude', 'latitude']])\n",
    "coords[:5]"
   ]
  },
  {
   "cell_type": "code",
   "execution_count": 27,
   "id": "5b16ab5d",
   "metadata": {
    "ExecuteTime": {
     "end_time": "2023-03-30T05:42:04.776002Z",
     "start_time": "2023-03-30T05:42:04.410399Z"
    }
   },
   "outputs": [
    {
     "name": "stdout",
     "output_type": "stream",
     "text": [
      "Number of clusters: 3\n"
     ]
    }
   ],
   "source": [
    "from sklearn.cluster import DBSCAN\n",
    "\n",
    "kms_per_radian = 6371.0088\n",
    "epsilon = 1.5 / kms_per_radian\n",
    "\n",
    "db = DBSCAN(eps=epsilon, min_samples=1, algorithm='ball_tree', metric='haversine').fit(np.radians(coords))\n",
    "cluster_labels = db.labels_\n",
    "num_clusters = len(set(cluster_labels))\n",
    "clusters = pd.Series([coords[cluster_labels == n] for n in range(num_clusters)])\n",
    "print('Number of clusters: {}'.format(num_clusters))"
   ]
  },
  {
   "cell_type": "code",
   "execution_count": 28,
   "id": "58ca5e41",
   "metadata": {
    "ExecuteTime": {
     "end_time": "2023-03-30T05:42:04.838015Z",
     "start_time": "2023-03-30T05:42:04.828004Z"
    }
   },
   "outputs": [],
   "source": [
    "combined_df['location_cluster'] = cluster_labels"
   ]
  },
  {
   "cell_type": "code",
   "execution_count": 29,
   "id": "a5cecedf",
   "metadata": {
    "ExecuteTime": {
     "end_time": "2023-03-30T05:42:05.644697Z",
     "start_time": "2023-03-30T05:42:05.438652Z"
    }
   },
   "outputs": [
    {
     "data": {
      "text/plain": [
       "<AxesSubplot: xlabel='longitude', ylabel='latitude'>"
      ]
     },
     "execution_count": 29,
     "metadata": {},
     "output_type": "execute_result"
    },
    {
     "data": {
      "image/png": "[encoded data removed]",
      "text/plain": [
       "<Figure size 640x480 with 1 Axes>"
      ]
     },
     "metadata": {},
     "output_type": "display_data"
    }
   ],
   "source": [
    "sns.scatterplot(combined_df, x='longitude', y='latitude', hue='location_cluster')"
   ]
  },
  {
   "cell_type": "code",
   "execution_count": 33,
   "id": "28abf8bb",
   "metadata": {
    "ExecuteTime": {
     "end_time": "2023-03-30T05:42:14.445159Z",
     "start_time": "2023-03-30T05:42:14.422653Z"
    }
   },
   "outputs": [
    {
     "data": {
      "text/html": [
       "<div>\n",
       "<style scoped>\n",
       "    .dataframe tbody tr th:only-of-type {\n",
       "        vertical-align: middle;\n",
       "    }\n",
       "\n",
       "    .dataframe tbody tr th {\n",
       "        vertical-align: top;\n",
       "    }\n",
       "\n",
       "    .dataframe thead th {\n",
       "        text-align: right;\n",
       "    }\n",
       "</style>\n",
       "<table border=\"1\" class=\"dataframe\">\n",
       "  <thead>\n",
       "    <tr style=\"text-align: right;\">\n",
       "      <th></th>\n",
       "      <th>name</th>\n",
       "      <th>total</th>\n",
       "      <th>water_hyacinths</th>\n",
       "      <th>garbages</th>\n",
       "      <th>boats</th>\n",
       "      <th>others</th>\n",
       "    </tr>\n",
       "  </thead>\n",
       "  <tbody>\n",
       "    <tr>\n",
       "      <th>0</th>\n",
       "      <td>Mandaluyong Area (277 images)</td>\n",
       "      <td>277</td>\n",
       "      <td>0.5714</td>\n",
       "      <td>0.0322</td>\n",
       "      <td>1.1172</td>\n",
       "      <td>0.0080</td>\n",
       "    </tr>\n",
       "    <tr>\n",
       "      <th>1</th>\n",
       "      <td>Manila Area (82 images)</td>\n",
       "      <td>82</td>\n",
       "      <td>0.5517</td>\n",
       "      <td>0.0670</td>\n",
       "      <td>0.3605</td>\n",
       "      <td>0.0039</td>\n",
       "    </tr>\n",
       "  </tbody>\n",
       "</table>\n",
       "</div>"
      ],
      "text/plain": [
       "                            name  total  water_hyacinths  garbages   boats  \\\n",
       "0  Mandaluyong Area (277 images)    277           0.5714    0.0322  1.1172   \n",
       "1        Manila Area (82 images)     82           0.5517    0.0670  0.3605   \n",
       "\n",
       "   others  \n",
       "0  0.0080  \n",
       "1  0.0039  "
      ]
     },
     "execution_count": 33,
     "metadata": {},
     "output_type": "execute_result"
    }
   ],
   "source": [
    "indexes = ['Mandaluyong Area (277 images)', 'Manila Area (82 images)', 'Middle Area']\n",
    "\n",
    "values = []\n",
    "\n",
    "for name, group in combined_df.groupby('location_cluster'):\n",
    "    count = len(group)\n",
    "    n_wh = group['objects_found'].apply(lambda x: 'wh' in x).sum()\n",
    "    n_g = group['objects_found'].apply(lambda x: 'g' in x).sum()\n",
    "    n_b = group['objects_found'].apply(lambda x: 'b' in x).sum()\n",
    "    n_o = group['objects_found'].apply(lambda x: 'o' in x).sum()\n",
    "    \n",
    "    if(name != 2):\n",
    "        values.append({\n",
    "            'name': indexes[name],\n",
    "            'total': count,\n",
    "#             'water_hyacinths': round(n_wh / count * 100, 2),\n",
    "#             'garbages': round(n_g / count * 100, 2),\n",
    "#             'boats': round(n_b / count * 100, 2),\n",
    "#             'others': round(n_o / count * 100, 2),\n",
    "            'water_hyacinths': round(group['wh_relative_to_river'].mean() * 100, 4),\n",
    "            'garbages': round(group['g_relative_to_river'].mean() * 100, 4),\n",
    "            'boats': round(group['b_relative_to_river'].mean() * 100, 4),\n",
    "            'others': round(group['o_relative_to_river'].mean() * 100, 4),\n",
    "        })\n",
    "    \n",
    "values_df = pd.DataFrame(values)\n",
    "values_df"
   ]
  },
  {
   "cell_type": "code",
   "execution_count": 31,
   "id": "8072b26d",
   "metadata": {
    "ExecuteTime": {
     "end_time": "2023-03-30T05:42:06.652062Z",
     "start_time": "2023-03-30T05:42:06.492477Z"
    }
   },
   "outputs": [
    {
     "data": {
      "text/plain": [
       "Text(0, 0.5, '% of Images')"
      ]
     },
     "execution_count": 31,
     "metadata": {},
     "output_type": "execute_result"
    },
    {
     "data": {
      "image/png": "[encoded data removed]",
      "text/plain": [
       "<Figure size 640x480 with 1 Axes>"
      ]
     },
     "metadata": {},
     "output_type": "display_data"
    }
   ],
   "source": [
    "tidy = values_df[['name', 'water_hyacinths', 'garbages', 'boats', 'others']].melt(id_vars='name').rename(columns=str.title)\n",
    "\n",
    "sns.barplot(x='Name', y='Value', hue='Variable', data=tidy, palette='Set2')\n",
    "\n",
    "plt.title('Amount of Objects per Area')\n",
    "plt.xlabel('Area')\n",
    "plt.ylabel('% of Images')"
   ]
  },
  {
   "cell_type": "code",
   "execution_count": 34,
   "id": "0a7e8375",
   "metadata": {
    "ExecuteTime": {
     "end_time": "2023-03-30T05:42:18.706336Z",
     "start_time": "2023-03-30T05:42:18.550790Z"
    }
   },
   "outputs": [
    {
     "data": {
      "text/plain": [
       "Text(0, 0.5, '% of River Covered')"
      ]
     },
     "execution_count": 34,
     "metadata": {},
     "output_type": "execute_result"
    },
    {
     "data": {
      "image/png": "[encoded data removed]",
      "text/plain": [
       "<Figure size 640x480 with 1 Axes>"
      ]
     },
     "metadata": {},
     "output_type": "display_data"
    }
   ],
   "source": [
    "tidy = values_df[['name', 'water_hyacinths', 'garbages', 'boats', 'others']].melt(id_vars='name').rename(columns=str.title)\n",
    "\n",
    "sns.barplot(x='Name', y='Value', hue='Variable', data=tidy, palette='Set2')\n",
    "\n",
    "plt.title('Size of Objects per Area')\n",
    "plt.xlabel('Area')\n",
    "plt.ylabel('% of River Covered')"
   ]
  },
  {
   "cell_type": "markdown",
   "id": "b97181b8",
   "metadata": {},
   "source": [
    "### Minimum Water Hyacinths"
   ]
  },
  {
   "cell_type": "code",
   "execution_count": 35,
   "id": "fcd60742",
   "metadata": {
    "ExecuteTime": {
     "end_time": "2023-03-30T05:44:31.350236Z",
     "start_time": "2023-03-30T05:44:31.328727Z"
    },
    "scrolled": true
   },
   "outputs": [
    {
     "name": "stdout",
     "output_type": "stream",
     "text": [
      "<class 'pandas.core.frame.DataFrame'>\n",
      "Int64Index: 360 entries, 0 to 359\n",
      "Data columns (total 35 columns):\n",
      " #   Column                   Non-Null Count  Dtype              \n",
      "---  ------                   --------------  -----              \n",
      " 0   name                     360 non-null    object             \n",
      " 1   height                   360 non-null    int64              \n",
      " 2   width                    360 non-null    int64              \n",
      " 3   area                     360 non-null    int64              \n",
      " 4   river_area               360 non-null    float64            \n",
      " 5   river_relative_to_image  360 non-null    float64            \n",
      " 6   water_hyacinths          360 non-null    object             \n",
      " 7   water_hyacinth_bounds    360 non-null    object             \n",
      " 8   wh_count                 360 non-null    int64              \n",
      " 9   garbage                  360 non-null    object             \n",
      " 10  garbage_bounds           360 non-null    object             \n",
      " 11  g_count                  360 non-null    int64              \n",
      " 12  boats                    360 non-null    object             \n",
      " 13  b_count                  360 non-null    int64              \n",
      " 14  others                   360 non-null    object             \n",
      " 15  o_count                  360 non-null    int64              \n",
      " 16  description              360 non-null    object             \n",
      " 17  weather                  360 non-null    object             \n",
      " 18  datetime                 360 non-null    datetime64[ns, UTC]\n",
      " 19  longitude                360 non-null    float64            \n",
      " 20  latitude                 360 non-null    float64            \n",
      " 21  resolution               360 non-null    object             \n",
      " 22  n_objects                360 non-null    int64              \n",
      " 23  objects_found            360 non-null    object             \n",
      " 24  total_wh                 360 non-null    float64            \n",
      " 25  total_g                  360 non-null    float64            \n",
      " 26  total_b                  360 non-null    float64            \n",
      " 27  total_o                  360 non-null    float64            \n",
      " 28  wh_relative_to_river     360 non-null    float64            \n",
      " 29  g_relative_to_river      360 non-null    float64            \n",
      " 30  b_relative_to_river      360 non-null    float64            \n",
      " 31  o_relative_to_river      360 non-null    float64            \n",
      " 32  week                     360 non-null    int64              \n",
      " 33  year                     360 non-null    int64              \n",
      " 34  location_cluster         360 non-null    int64              \n",
      "dtypes: datetime64[ns, UTC](1), float64(12), int64(11), object(11)\n",
      "memory usage: 101.2+ KB\n"
     ]
    }
   ],
   "source": [
    "combined_df.info()"
   ]
  },
  {
   "cell_type": "code",
   "execution_count": 36,
   "id": "c29bbacb",
   "metadata": {
    "ExecuteTime": {
     "end_time": "2023-03-30T05:44:31.722068Z",
     "start_time": "2023-03-30T05:44:31.688552Z"
    }
   },
   "outputs": [
    {
     "name": "stdout",
     "output_type": "stream",
     "text": [
      "330 9.09680000000001 2.740000000000009 3.319999999999993\n"
     ]
    }
   ],
   "source": [
    "min_index = None\n",
    "min_wh_height = None\n",
    "min_wh_width = None\n",
    "min_area = 99999999999\n",
    "for i, row in combined_df.iterrows():\n",
    "    for bounds in row['water_hyacinth_bounds'].split('|'):\n",
    "        try:\n",
    "            x1, y1, x2, y2 = bounds.split(',')\n",
    "            width = float(x2) - float(x1)\n",
    "            height = float(y2) - float(y1) \n",
    "            area = width * height\n",
    "            if(area < min_area):\n",
    "                min_area = area\n",
    "                min_index = i\n",
    "                min_wh_width = width\n",
    "                min_wh_height = height\n",
    "        except:\n",
    "            pass\n",
    "            \n",
    "print(min_index, min_area, min_wh_width, min_wh_height)"
   ]
  },
  {
   "cell_type": "code",
   "execution_count": 37,
   "id": "82c2b70c",
   "metadata": {
    "ExecuteTime": {
     "end_time": "2023-03-30T05:44:32.249202Z",
     "start_time": "2023-03-30T05:44:32.217669Z"
    }
   },
   "outputs": [
    {
     "name": "stdout",
     "output_type": "stream",
     "text": [
      "299 9.000000000000057 3.6000000000000227 2.5\n"
     ]
    }
   ],
   "source": [
    "min_index = None\n",
    "min_wh_height = None\n",
    "min_wh_width = None\n",
    "min_area = 99999999999\n",
    "for i, row in combined_df.iterrows():\n",
    "    for bounds in row['garbage_bounds'].split('|'):\n",
    "        try:\n",
    "            x1, y1, x2, y2 = bounds.split(',')\n",
    "            width = float(x2) - float(x1)\n",
    "            height = float(y2) - float(y1) \n",
    "            area = width * height\n",
    "            if(area < min_area):\n",
    "                min_area = area\n",
    "                min_index = i\n",
    "                min_wh_width = width\n",
    "                min_wh_height = height\n",
    "        except:\n",
    "            pass\n",
    "            \n",
    "print(min_index, min_area, min_wh_width, min_wh_height)"
   ]
  },
  {
   "cell_type": "markdown",
   "id": "358e5de0",
   "metadata": {},
   "source": [
    "## Visualize"
   ]
  },
  {
   "cell_type": "code",
   "execution_count": null,
   "id": "e2bae230",
   "metadata": {},
   "outputs": [],
   "source": []
  },
  {
   "cell_type": "code",
   "execution_count": null,
   "id": "7877b6bb",
   "metadata": {},
   "outputs": [],
   "source": []
  }
 ],
 "metadata": {
  "kernelspec": {
   "display_name": "Python 3 (ipykernel)",
   "language": "python",
   "name": "python3"
  },
  "language_info": {
   "codemirror_mode": {
    "name": "ipython",
    "version": 3
   },
   "file_extension": ".py",
   "mimetype": "text/x-python",
   "name": "python",
   "nbconvert_exporter": "python",
   "pygments_lexer": "ipython3",
   "version": "3.8.2"
  },
  "toc": {
   "base_numbering": 1,
   "nav_menu": {},
   "number_sections": true,
   "sideBar": true,
   "skip_h1_title": false,
   "title_cell": "Table of Contents",
   "title_sidebar": "Contents",
   "toc_cell": false,
   "toc_position": {
    "height": "calc(100% - 180px)",
    "left": "10px",
    "top": "150px",
    "width": "384px"
   },
   "toc_section_display": true,
   "toc_window_display": true
  },
  "varInspector": {
   "cols": {
    "lenName": 16,
    "lenType": 16,
    "lenVar": 40
   },
   "kernels_config": {
    "python": {
     "delete_cmd_postfix": "",
     "delete_cmd_prefix": "del ",
     "library": "var_list.py",
     "varRefreshCmd": "print(var_dic_list())"
    },
    "r": {
     "delete_cmd_postfix": ") ",
     "delete_cmd_prefix": "rm(",
     "library": "var_list.r",
     "varRefreshCmd": "cat(var_dic_list()) "
    }
   },
   "types_to_exclude": [
    "module",
    "function",
    "builtin_function_or_method",
    "instance",
    "_Feature"
   ],
   "window_display": false
  },
  "vscode": {
   "interpreter": {
    "hash": "7433d19ec64a94f983d045b195f492572faef5136675c629b63ea1de2ae5e1b9"
   }
  }
 },
 "nbformat": 4,
 "nbformat_minor": 5
}
