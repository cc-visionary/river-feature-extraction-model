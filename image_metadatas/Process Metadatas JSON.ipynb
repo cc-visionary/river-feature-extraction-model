{
 "cells": [
  {
   "cell_type": "code",
   "execution_count": 1,
   "id": "b1cee5c1",
   "metadata": {
    "ExecuteTime": {
     "end_time": "2023-02-10T06:31:42.226272Z",
     "start_time": "2023-02-10T06:31:41.896940Z"
    }
   },
   "outputs": [],
   "source": [
    "import pandas as pd\n",
    "import json"
   ]
  },
  {
   "cell_type": "code",
   "execution_count": 2,
   "id": "25702784",
   "metadata": {
    "ExecuteTime": {
     "end_time": "2023-02-10T06:31:42.257922Z",
     "start_time": "2023-02-10T06:31:42.226272Z"
    }
   },
   "outputs": [
    {
     "data": {
      "text/html": [
       "<div>\n",
       "<style scoped>\n",
       "    .dataframe tbody tr th:only-of-type {\n",
       "        vertical-align: middle;\n",
       "    }\n",
       "\n",
       "    .dataframe tbody tr th {\n",
       "        vertical-align: top;\n",
       "    }\n",
       "\n",
       "    .dataframe thead th {\n",
       "        text-align: right;\n",
       "    }\n",
       "</style>\n",
       "<table border=\"1\" class=\"dataframe\">\n",
       "  <thead>\n",
       "    <tr style=\"text-align: right;\">\n",
       "      <th></th>\n",
       "      <th>_id</th>\n",
       "      <th>filename</th>\n",
       "      <th>description</th>\n",
       "      <th>weather</th>\n",
       "      <th>datetime</th>\n",
       "      <th>longitude</th>\n",
       "      <th>latitude</th>\n",
       "      <th>alpha</th>\n",
       "      <th>beta</th>\n",
       "      <th>gamma</th>\n",
       "      <th>__v</th>\n",
       "      <th>compass</th>\n",
       "    </tr>\n",
       "  </thead>\n",
       "  <tbody>\n",
       "    <tr>\n",
       "      <th>0</th>\n",
       "      <td>{'$oid': '63ad283dcf197a147d6600c1'}</td>\n",
       "      <td>dd6c26782853a.jpg</td>\n",
       "      <td>Bridge</td>\n",
       "      <td>Sunny</td>\n",
       "      <td>2022-12-29 05:39:15.639000+00:00</td>\n",
       "      <td>{'$numberDecimal': '121.0120087'}</td>\n",
       "      <td>{'$numberDecimal': '14.5940321'}</td>\n",
       "      <td>{'$numberDecimal': '258.3'}</td>\n",
       "      <td>{'$numberDecimal': '18.2'}</td>\n",
       "      <td>{'$numberDecimal': '-16.7'}</td>\n",
       "      <td>0</td>\n",
       "      <td>NaN</td>\n",
       "    </tr>\n",
       "    <tr>\n",
       "      <th>1</th>\n",
       "      <td>{'$oid': '63ad3b37cf197a147d6600c3'}</td>\n",
       "      <td>ed862fef325b1.jpg</td>\n",
       "      <td>Riverbank</td>\n",
       "      <td>Sunny</td>\n",
       "      <td>2022-12-29 07:00:38.767000+00:00</td>\n",
       "      <td>{'$numberDecimal': '120.9794739'}</td>\n",
       "      <td>{'$numberDecimal': '14.5976188'}</td>\n",
       "      <td>{'$numberDecimal': '231'}</td>\n",
       "      <td>{'$numberDecimal': '16.1'}</td>\n",
       "      <td>{'$numberDecimal': '12.9'}</td>\n",
       "      <td>0</td>\n",
       "      <td>NaN</td>\n",
       "    </tr>\n",
       "    <tr>\n",
       "      <th>2</th>\n",
       "      <td>{'$oid': '63ad3bbdcf197a147d6600c5'}</td>\n",
       "      <td>fcea82099b748.jpg</td>\n",
       "      <td>Riverbank</td>\n",
       "      <td>Sunny</td>\n",
       "      <td>2022-12-29 07:02:47.433000+00:00</td>\n",
       "      <td>{'$numberDecimal': '120.9792038'}</td>\n",
       "      <td>{'$numberDecimal': '14.5975039'}</td>\n",
       "      <td>{'$numberDecimal': '202.79999999999998'}</td>\n",
       "      <td>{'$numberDecimal': '29.8'}</td>\n",
       "      <td>{'$numberDecimal': '-2.2'}</td>\n",
       "      <td>0</td>\n",
       "      <td>NaN</td>\n",
       "    </tr>\n",
       "    <tr>\n",
       "      <th>3</th>\n",
       "      <td>{'$oid': '63ad3c12cf197a147d6600c7'}</td>\n",
       "      <td>9bf6f91534b8f.jpg</td>\n",
       "      <td>Riverbank</td>\n",
       "      <td>Sunny</td>\n",
       "      <td>2022-12-29 07:03:59.892000+00:00</td>\n",
       "      <td>{'$numberDecimal': '120.9785912'}</td>\n",
       "      <td>{'$numberDecimal': '14.5973141'}</td>\n",
       "      <td>{'$numberDecimal': '116.1'}</td>\n",
       "      <td>{'$numberDecimal': '1.7000000000000002'}</td>\n",
       "      <td>{'$numberDecimal': '-56.400000000000006'}</td>\n",
       "      <td>0</td>\n",
       "      <td>NaN</td>\n",
       "    </tr>\n",
       "    <tr>\n",
       "      <th>4</th>\n",
       "      <td>{'$oid': '63ad3ca1cf197a147d6600c9'}</td>\n",
       "      <td>3f92dcb11d28.jpg</td>\n",
       "      <td>Riverbank</td>\n",
       "      <td>Sunny</td>\n",
       "      <td>2022-12-29 07:05:27.323000+00:00</td>\n",
       "      <td>{'$numberDecimal': '120.9785801'}</td>\n",
       "      <td>{'$numberDecimal': '14.5966848'}</td>\n",
       "      <td>{'$numberDecimal': '156.39999999999998'}</td>\n",
       "      <td>{'$numberDecimal': '17.3'}</td>\n",
       "      <td>{'$numberDecimal': '-15.100000000000001'}</td>\n",
       "      <td>0</td>\n",
       "      <td>NaN</td>\n",
       "    </tr>\n",
       "  </tbody>\n",
       "</table>\n",
       "</div>"
      ],
      "text/plain": [
       "                                    _id           filename description  \\\n",
       "0  {'$oid': '63ad283dcf197a147d6600c1'}  dd6c26782853a.jpg      Bridge   \n",
       "1  {'$oid': '63ad3b37cf197a147d6600c3'}  ed862fef325b1.jpg   Riverbank   \n",
       "2  {'$oid': '63ad3bbdcf197a147d6600c5'}  fcea82099b748.jpg   Riverbank   \n",
       "3  {'$oid': '63ad3c12cf197a147d6600c7'}  9bf6f91534b8f.jpg   Riverbank   \n",
       "4  {'$oid': '63ad3ca1cf197a147d6600c9'}   3f92dcb11d28.jpg   Riverbank   \n",
       "\n",
       "  weather                         datetime                          longitude  \\\n",
       "0   Sunny 2022-12-29 05:39:15.639000+00:00  {'$numberDecimal': '121.0120087'}   \n",
       "1   Sunny 2022-12-29 07:00:38.767000+00:00  {'$numberDecimal': '120.9794739'}   \n",
       "2   Sunny 2022-12-29 07:02:47.433000+00:00  {'$numberDecimal': '120.9792038'}   \n",
       "3   Sunny 2022-12-29 07:03:59.892000+00:00  {'$numberDecimal': '120.9785912'}   \n",
       "4   Sunny 2022-12-29 07:05:27.323000+00:00  {'$numberDecimal': '120.9785801'}   \n",
       "\n",
       "                           latitude                                     alpha  \\\n",
       "0  {'$numberDecimal': '14.5940321'}               {'$numberDecimal': '258.3'}   \n",
       "1  {'$numberDecimal': '14.5976188'}                 {'$numberDecimal': '231'}   \n",
       "2  {'$numberDecimal': '14.5975039'}  {'$numberDecimal': '202.79999999999998'}   \n",
       "3  {'$numberDecimal': '14.5973141'}               {'$numberDecimal': '116.1'}   \n",
       "4  {'$numberDecimal': '14.5966848'}  {'$numberDecimal': '156.39999999999998'}   \n",
       "\n",
       "                                       beta  \\\n",
       "0                {'$numberDecimal': '18.2'}   \n",
       "1                {'$numberDecimal': '16.1'}   \n",
       "2                {'$numberDecimal': '29.8'}   \n",
       "3  {'$numberDecimal': '1.7000000000000002'}   \n",
       "4                {'$numberDecimal': '17.3'}   \n",
       "\n",
       "                                       gamma  __v compass  \n",
       "0                {'$numberDecimal': '-16.7'}    0     NaN  \n",
       "1                 {'$numberDecimal': '12.9'}    0     NaN  \n",
       "2                 {'$numberDecimal': '-2.2'}    0     NaN  \n",
       "3  {'$numberDecimal': '-56.400000000000006'}    0     NaN  \n",
       "4  {'$numberDecimal': '-15.100000000000001'}    0     NaN  "
      ]
     },
     "execution_count": 2,
     "metadata": {},
     "output_type": "execute_result"
    }
   ],
   "source": [
    "df = pd.read_json('metadatas.json')\n",
    "df.head()"
   ]
  },
  {
   "cell_type": "code",
   "execution_count": 3,
   "id": "73e3e16f",
   "metadata": {
    "ExecuteTime": {
     "end_time": "2023-02-10T06:31:42.273545Z",
     "start_time": "2023-02-10T06:31:42.257922Z"
    }
   },
   "outputs": [
    {
     "name": "stdout",
     "output_type": "stream",
     "text": [
      "<class 'pandas.core.frame.DataFrame'>\n",
      "RangeIndex: 360 entries, 0 to 359\n",
      "Data columns (total 12 columns):\n",
      " #   Column       Non-Null Count  Dtype              \n",
      "---  ------       --------------  -----              \n",
      " 0   _id          360 non-null    object             \n",
      " 1   filename     360 non-null    object             \n",
      " 2   description  360 non-null    object             \n",
      " 3   weather      360 non-null    object             \n",
      " 4   datetime     360 non-null    datetime64[ns, UTC]\n",
      " 5   longitude    360 non-null    object             \n",
      " 6   latitude     360 non-null    object             \n",
      " 7   alpha        11 non-null     object             \n",
      " 8   beta         11 non-null     object             \n",
      " 9   gamma        11 non-null     object             \n",
      " 10  __v          360 non-null    int64              \n",
      " 11  compass      349 non-null    object             \n",
      "dtypes: datetime64[ns, UTC](1), int64(1), object(10)\n",
      "memory usage: 33.9+ KB\n"
     ]
    }
   ],
   "source": [
    "df.info()"
   ]
  },
  {
   "cell_type": "code",
   "execution_count": 4,
   "id": "38e27436",
   "metadata": {
    "ExecuteTime": {
     "end_time": "2023-02-10T06:31:42.289184Z",
     "start_time": "2023-02-10T06:31:42.273545Z"
    }
   },
   "outputs": [],
   "source": [
    "df['_id'] = df['_id'].apply(lambda x: x['$oid']).astype(str)"
   ]
  },
  {
   "cell_type": "code",
   "execution_count": 5,
   "id": "47cb9adc",
   "metadata": {
    "ExecuteTime": {
     "end_time": "2023-02-10T06:31:42.304811Z",
     "start_time": "2023-02-10T06:31:42.289184Z"
    }
   },
   "outputs": [],
   "source": [
    "df['longitude'] = df['longitude'].apply(lambda x: x['$numberDecimal']).astype(float)\n",
    "df['latitude'] = df['latitude'].apply(lambda x: x['$numberDecimal']).astype(float)\n",
    "df['alpha'] = df['alpha'].apply(lambda x: x['$numberDecimal'] if x == x else None).astype(float)\n",
    "df['beta'] = df['beta'].apply(lambda x: x['$numberDecimal'] if x == x else None).astype(float)\n",
    "df['gamma'] = df['gamma'].apply(lambda x: x['$numberDecimal'] if x == x else None).astype(float)\n",
    "df['compass'] = df['compass'].apply(lambda x: x['$numberDecimal'] if x == x else None).astype(float)"
   ]
  },
  {
   "cell_type": "code",
   "execution_count": 8,
   "id": "a8b81e92",
   "metadata": {
    "ExecuteTime": {
     "end_time": "2023-02-10T06:32:23.226140Z",
     "start_time": "2023-02-10T06:32:23.210113Z"
    }
   },
   "outputs": [],
   "source": [
    "df['compass'] = df.apply(lambda x: x['compass'] if x['compass'] == x['compass'] else x['alpha'], axis=1)"
   ]
  },
  {
   "cell_type": "code",
   "execution_count": 10,
   "id": "2ec1dab1",
   "metadata": {
    "ExecuteTime": {
     "end_time": "2023-02-10T06:32:44.724567Z",
     "start_time": "2023-02-10T06:32:44.708976Z"
    }
   },
   "outputs": [],
   "source": [
    "del df['alpha']\n",
    "del df['beta']\n",
    "del df['gamma']"
   ]
  },
  {
   "cell_type": "code",
   "execution_count": 12,
   "id": "5a3dd77e",
   "metadata": {
    "ExecuteTime": {
     "end_time": "2023-02-10T06:33:08.614921Z",
     "start_time": "2023-02-10T06:33:08.598909Z"
    }
   },
   "outputs": [
    {
     "data": {
      "text/plain": [
       "0    360\n",
       "Name: __v, dtype: int64"
      ]
     },
     "execution_count": 12,
     "metadata": {},
     "output_type": "execute_result"
    }
   ],
   "source": [
    "df['__v'].value_counts()"
   ]
  },
  {
   "cell_type": "code",
   "execution_count": 13,
   "id": "3c0b174d",
   "metadata": {
    "ExecuteTime": {
     "end_time": "2023-02-10T06:33:21.692646Z",
     "start_time": "2023-02-10T06:33:21.677015Z"
    }
   },
   "outputs": [],
   "source": [
    "del df['__v']"
   ]
  },
  {
   "cell_type": "code",
   "execution_count": 14,
   "id": "21edc1e9",
   "metadata": {
    "ExecuteTime": {
     "end_time": "2023-02-10T06:33:22.492417Z",
     "start_time": "2023-02-10T06:33:22.476787Z"
    }
   },
   "outputs": [
    {
     "name": "stdout",
     "output_type": "stream",
     "text": [
      "<class 'pandas.core.frame.DataFrame'>\n",
      "RangeIndex: 360 entries, 0 to 359\n",
      "Data columns (total 8 columns):\n",
      " #   Column       Non-Null Count  Dtype              \n",
      "---  ------       --------------  -----              \n",
      " 0   _id          360 non-null    object             \n",
      " 1   filename     360 non-null    object             \n",
      " 2   description  360 non-null    object             \n",
      " 3   weather      360 non-null    object             \n",
      " 4   datetime     360 non-null    datetime64[ns, UTC]\n",
      " 5   longitude    360 non-null    float64            \n",
      " 6   latitude     360 non-null    float64            \n",
      " 7   compass      360 non-null    float64            \n",
      "dtypes: datetime64[ns, UTC](1), float64(3), object(4)\n",
      "memory usage: 22.6+ KB\n"
     ]
    }
   ],
   "source": [
    "df.info()"
   ]
  },
  {
   "cell_type": "code",
   "execution_count": 18,
   "id": "6bc1ca02",
   "metadata": {
    "ExecuteTime": {
     "end_time": "2023-02-10T06:34:49.050403Z",
     "start_time": "2023-02-10T06:34:49.034763Z"
    }
   },
   "outputs": [],
   "source": [
    "df.to_json('processed_metadatas.json', orient='records')"
   ]
  },
  {
   "cell_type": "code",
   "execution_count": null,
   "id": "f25b1ebd",
   "metadata": {},
   "outputs": [],
   "source": []
  }
 ],
 "metadata": {
  "kernelspec": {
   "display_name": "Python 3 (ipykernel)",
   "language": "python",
   "name": "python3"
  },
  "language_info": {
   "codemirror_mode": {
    "name": "ipython",
    "version": 3
   },
   "file_extension": ".py",
   "mimetype": "text/x-python",
   "name": "python",
   "nbconvert_exporter": "python",
   "pygments_lexer": "ipython3",
   "version": "3.8.2"
  },
  "toc": {
   "base_numbering": 1,
   "nav_menu": {},
   "number_sections": true,
   "sideBar": true,
   "skip_h1_title": false,
   "title_cell": "Table of Contents",
   "title_sidebar": "Contents",
   "toc_cell": false,
   "toc_position": {},
   "toc_section_display": true,
   "toc_window_display": false
  }
 },
 "nbformat": 4,
 "nbformat_minor": 5
}
